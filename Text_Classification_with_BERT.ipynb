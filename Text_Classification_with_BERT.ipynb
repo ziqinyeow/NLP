{
  "cells": [
    {
      "cell_type": "markdown",
      "metadata": {
        "id": "Cb4espuLKJiA"
      },
      "source": [
        "##### Copyright 2020 The TensorFlow Hub Authors.\n"
      ]
    },
    {
      "cell_type": "code",
      "execution_count": null,
      "metadata": {
        "cellView": "form",
        "id": "jM3hCI1UUzar"
      },
      "outputs": [],
      "source": [
        "#@title Licensed under the Apache License, Version 2.0 (the \"License\");\n",
        "# you may not use this file except in compliance with the License.\n",
        "# You may obtain a copy of the License at\n",
        "#\n",
        "# https://www.apache.org/licenses/LICENSE-2.0\n",
        "#\n",
        "# Unless required by applicable law or agreed to in writing, software\n",
        "# distributed under the License is distributed on an \"AS IS\" BASIS,\n",
        "# WITHOUT WARRANTIES OR CONDITIONS OF ANY KIND, either express or implied.\n",
        "# See the License for the specific language governing permissions and\n",
        "# limitations under the License."
      ]
    },
    {
      "cell_type": "markdown",
      "metadata": {
        "id": "4_NEJlxKKjyI"
      },
      "source": [
        "<table class=\"tfo-notebook-buttons\" align=\"left\">\n",
        "  <td>\n",
        "    <a target=\"_blank\" href=\"https://www.tensorflow.org/text/tutorials/classify_text_with_bert\"><img src=\"https://www.tensorflow.org/images/tf_logo_32px.png\" />View on TensorFlow.org</a>\n",
        "  </td>\n",
        "  <td>\n",
        "    <a target=\"_blank\" href=\"https://colab.research.google.com/github/tensorflow/text/blob/master/docs/tutorials/classify_text_with_bert.ipynb\"><img src=\"https://www.tensorflow.org/images/colab_logo_32px.png\" />Run in Google Colab</a>\n",
        "  </td>\n",
        "  <td>\n",
        "    <a target=\"_blank\" href=\"https://github.com/tensorflow/text/blob/master/docs/tutorials/classify_text_with_bert.ipynb\"><img src=\"https://www.tensorflow.org/images/GitHub-Mark-32px.png\" />View on GitHub</a>\n",
        "  </td>\n",
        "  <td>\n",
        "    <a href=\"https://storage.googleapis.com/tensorflow_docs/text/docs/tutorials/classify_text_with_bert.ipynb\"><img src=\"https://www.tensorflow.org/images/download_logo_32px.png\" />Download notebook</a>\n",
        "  </td>\n",
        "  <td>\n",
        "    <a href=\"https://tfhub.dev/google/collections/bert/1\"><img src=\"https://www.tensorflow.org/images/hub_logo_32px.png\" />See TF Hub model</a>\n",
        "  </td>\n",
        "</table>"
      ]
    },
    {
      "cell_type": "markdown",
      "metadata": {
        "id": "IZ6SNYq_tVVC"
      },
      "source": [
        "# Classify text with BERT\n",
        "\n",
        "This tutorial contains complete code to fine-tune BERT to perform sentiment analysis on a dataset of plain-text IMDB movie reviews.\n",
        "In addition to training a model, you will learn how to preprocess text into an appropriate format.\n",
        "\n",
        "In this notebook, you will:\n",
        "\n",
        "- Load the IMDB dataset\n",
        "- Load a BERT model from TensorFlow Hub\n",
        "- Build your own model by combining BERT with a classifier\n",
        "- Train your own model, fine-tuning BERT as part of that\n",
        "- Save your model and use it to classify sentences\n",
        "\n",
        "If you're new to working with the IMDB dataset, please see [Basic text classification](https://www.tensorflow.org/tutorials/keras/text_classification) for more details."
      ]
    },
    {
      "cell_type": "markdown",
      "metadata": {
        "id": "2PHBpLPuQdmK"
      },
      "source": [
        "## About BERT\n",
        "\n",
        "[BERT](https://arxiv.org/abs/1810.04805) and other Transformer encoder architectures have been wildly successful on a variety of tasks in NLP (natural language processing). They compute vector-space representations of natural language that are suitable for use in deep learning models. The BERT family of models uses the Transformer encoder architecture to process each token of input text in the full context of all tokens before and after, hence the name: Bidirectional Encoder Representations from Transformers. \n",
        "\n",
        "BERT models are usually pre-trained on a large corpus of text, then fine-tuned for specific tasks.\n"
      ]
    },
    {
      "cell_type": "markdown",
      "metadata": {
        "id": "SCjmX4zTCkRK"
      },
      "source": [
        "## Setup\n"
      ]
    },
    {
      "cell_type": "code",
      "execution_count": null,
      "metadata": {
        "colab": {
          "base_uri": "https://localhost:8080/"
        },
        "id": "q-YbjCkzw0yU",
        "outputId": "92a7d7a2-4ab1-40bb-87c3-13caf76324eb"
      },
      "outputs": [
        {
          "name": "stdout",
          "output_type": "stream",
          "text": [
            "\u001b[K     |████████████████████████████████| 4.9 MB 5.4 MB/s \n",
            "\u001b[K     |████████████████████████████████| 462 kB 46.0 MB/s \n",
            "\u001b[?25h"
          ]
        }
      ],
      "source": [
        "# A dependency of the preprocessing for BERT inputs\n",
        "!pip install -q -U \"tensorflow-text==2.8.*\""
      ]
    },
    {
      "cell_type": "markdown",
      "metadata": {
        "id": "5w_XlxN1IsRJ"
      },
      "source": [
        "You will use the AdamW optimizer from [tensorflow/models](https://github.com/tensorflow/models)."
      ]
    },
    {
      "cell_type": "code",
      "execution_count": null,
      "metadata": {
        "colab": {
          "base_uri": "https://localhost:8080/"
        },
        "id": "b-P1ZOA0FkVJ",
        "outputId": "a19f29e2-6810-4020-8b5e-d641c05fa4f2"
      },
      "outputs": [
        {
          "name": "stdout",
          "output_type": "stream",
          "text": [
            "\u001b[K     |████████████████████████████████| 1.8 MB 5.2 MB/s \n",
            "\u001b[K     |████████████████████████████████| 1.1 MB 56.0 MB/s \n",
            "\u001b[K     |████████████████████████████████| 43 kB 2.2 MB/s \n",
            "\u001b[K     |████████████████████████████████| 47.8 MB 1.4 MB/s \n",
            "\u001b[K     |████████████████████████████████| 90 kB 9.3 MB/s \n",
            "\u001b[K     |████████████████████████████████| 352 kB 57.9 MB/s \n",
            "\u001b[K     |████████████████████████████████| 237 kB 57.5 MB/s \n",
            "\u001b[K     |████████████████████████████████| 1.2 MB 46.8 MB/s \n",
            "\u001b[K     |████████████████████████████████| 99 kB 10.5 MB/s \n",
            "\u001b[K     |████████████████████████████████| 596 kB 56.9 MB/s \n",
            "\u001b[?25h  Building wheel for py-cpuinfo (setup.py) ... \u001b[?25l\u001b[?25hdone\n",
            "  Building wheel for seqeval (setup.py) ... \u001b[?25l\u001b[?25hdone\n"
          ]
        }
      ],
      "source": [
        "!pip install -q tf-models-official==2.7.0"
      ]
    },
    {
      "cell_type": "code",
      "execution_count": null,
      "metadata": {
        "id": "_XgTpm9ZxoN9"
      },
      "outputs": [],
      "source": [
        "import os\n",
        "import shutil\n",
        "\n",
        "import tensorflow as tf\n",
        "import tensorflow_hub as hub\n",
        "import tensorflow_text as text\n",
        "from official.nlp import optimization  # to create AdamW optimizer\n",
        "\n",
        "import matplotlib.pyplot as plt\n",
        "\n",
        "tf.get_logger().setLevel('ERROR')"
      ]
    },
    {
      "cell_type": "markdown",
      "metadata": {
        "id": "q6MugfEgDRpY"
      },
      "source": [
        "## Sentiment analysis\n",
        "\n",
        "This notebook trains a sentiment analysis model to classify movie reviews as *positive* or *negative*, based on the text of the review.\n",
        "\n",
        "You'll use the [Large Movie Review Dataset](https://ai.stanford.edu/~amaas/data/sentiment/) that contains the text of 50,000 movie reviews from the [Internet Movie Database](https://www.imdb.com/)."
      ]
    },
    {
      "cell_type": "markdown",
      "metadata": {
        "id": "Vnvd4mrtPHHV"
      },
      "source": [
        "### Download the IMDB dataset\n",
        "\n",
        "Let's download and extract the dataset, then explore the directory structure.\n"
      ]
    },
    {
      "cell_type": "code",
      "execution_count": null,
      "metadata": {
        "colab": {
          "base_uri": "https://localhost:8080/"
        },
        "id": "pOdqCMoQDRJL",
        "outputId": "653549b8-7df6-4196-a2d9-330811943b58"
      },
      "outputs": [
        {
          "name": "stdout",
          "output_type": "stream",
          "text": [
            "Downloading data from https://ai.stanford.edu/~amaas/data/sentiment/aclImdb_v1.tar.gz\n",
            "84131840/84125825 [==============================] - 5s 0us/step\n",
            "84140032/84125825 [==============================] - 5s 0us/step\n"
          ]
        }
      ],
      "source": [
        "url = 'https://ai.stanford.edu/~amaas/data/sentiment/aclImdb_v1.tar.gz'\n",
        "\n",
        "dataset = tf.keras.utils.get_file('aclImdb_v1.tar.gz', url,\n",
        "                                  untar=True, cache_dir='.',\n",
        "                                  cache_subdir='')\n",
        "\n",
        "dataset_dir = os.path.join(os.path.dirname(dataset), 'aclImdb')\n",
        "\n",
        "train_dir = os.path.join(dataset_dir, 'train')"
      ]
    },
    {
      "cell_type": "code",
      "execution_count": null,
      "metadata": {
        "id": "MfmXsqW6ulmG"
      },
      "outputs": [],
      "source": [
        "# remove unused folders to make it easier to load the data\n",
        "remove_dir = os.path.join(train_dir, 'unsup')\n",
        "shutil.rmtree(remove_dir)"
      ]
    },
    {
      "cell_type": "markdown",
      "metadata": {
        "id": "lN9lWCYfPo7b"
      },
      "source": [
        "Next, you will use the `text_dataset_from_directory` utility to create a labeled `tf.data.Dataset`.\n",
        "\n",
        "The IMDB dataset has already been divided into train and test, but it lacks a validation set. Let's create a validation set using an 80:20 split of the training data by using the `validation_split` argument below.\n",
        "\n",
        "Note:  When using the `validation_split` and `subset` arguments, make sure to either specify a random seed, or to pass `shuffle=False`, so that the validation and training splits have no overlap."
      ]
    },
    {
      "cell_type": "code",
      "execution_count": null,
      "metadata": {
        "colab": {
          "base_uri": "https://localhost:8080/"
        },
        "id": "6IwI_2bcIeX8",
        "outputId": "a3daeaee-1e53-4900-c7d0-d000c43db02e"
      },
      "outputs": [
        {
          "name": "stdout",
          "output_type": "stream",
          "text": [
            "Found 25000 files belonging to 2 classes.\n",
            "Using 20000 files for training.\n",
            "Found 25000 files belonging to 2 classes.\n",
            "Using 5000 files for validation.\n",
            "Found 25000 files belonging to 2 classes.\n"
          ]
        }
      ],
      "source": [
        "AUTOTUNE = tf.data.AUTOTUNE\n",
        "batch_size = 32\n",
        "seed = 42\n",
        "\n",
        "raw_train_ds = tf.keras.utils.text_dataset_from_directory(\n",
        "    'aclImdb/train',\n",
        "    batch_size=batch_size,\n",
        "    validation_split=0.2,\n",
        "    subset='training',\n",
        "    seed=seed)\n",
        "\n",
        "class_names = raw_train_ds.class_names\n",
        "train_ds = raw_train_ds.cache().prefetch(buffer_size=AUTOTUNE)\n",
        "\n",
        "val_ds = tf.keras.utils.text_dataset_from_directory(\n",
        "    'aclImdb/train',\n",
        "    batch_size=batch_size,\n",
        "    validation_split=0.2,\n",
        "    subset='validation',\n",
        "    seed=seed)\n",
        "\n",
        "val_ds = val_ds.cache().prefetch(buffer_size=AUTOTUNE)\n",
        "\n",
        "test_ds = tf.keras.utils.text_dataset_from_directory(\n",
        "    'aclImdb/test',\n",
        "    batch_size=batch_size)\n",
        "\n",
        "test_ds = test_ds.cache().prefetch(buffer_size=AUTOTUNE)"
      ]
    },
    {
      "cell_type": "code",
      "execution_count": null,
      "metadata": {
        "colab": {
          "base_uri": "https://localhost:8080/"
        },
        "id": "zlAS9p-1vUBy",
        "outputId": "3966479f-f5da-4b3e-bcb7-9cf36adb1069"
      },
      "outputs": [
        {
          "data": {
            "text/plain": [
              "['neg', 'pos']"
            ]
          },
          "execution_count": 7,
          "metadata": {},
          "output_type": "execute_result"
        }
      ],
      "source": [
        "class_names"
      ]
    },
    {
      "cell_type": "markdown",
      "metadata": {
        "id": "HGm10A5HRGXp"
      },
      "source": [
        "Let's take a look at a few reviews."
      ]
    },
    {
      "cell_type": "code",
      "execution_count": null,
      "metadata": {
        "colab": {
          "base_uri": "https://localhost:8080/"
        },
        "id": "JuxDkcvVIoev",
        "outputId": "2d4578ee-c779-41e0-853e-574a9d3dc191"
      },
      "outputs": [
        {
          "name": "stdout",
          "output_type": "stream",
          "text": [
            "Review: b'\"Pandemonium\" is a horror movie spoof that comes off more stupid than funny. Believe me when I tell you, I love comedies. Especially comedy spoofs. \"Airplane\", \"The Naked Gun\" trilogy, \"Blazing Saddles\", \"High Anxiety\", and \"Spaceballs\" are some of my favorite comedies that spoof a particular genre. \"Pandemonium\" is not up there with those films. Most of the scenes in this movie had me sitting there in stunned silence because the movie wasn\\'t all that funny. There are a few laughs in the film, but when you watch a comedy, you expect to laugh a lot more than a few times and that\\'s all this film has going for it. Geez, \"Scream\" had more laughs than this film and that was more of a horror film. How bizarre is that?<br /><br />*1/2 (out of four)'\n",
            "Label : 0 (neg)\n",
            "Review: b\"David Mamet is a very interesting and a very un-equal director. His first movie 'House of Games' was the one I liked best, and it set a series of films with characters whose perspective of life changes as they get into complicated situations, and so does the perspective of the viewer.<br /><br />So is 'Homicide' which from the title tries to set the mind of the viewer to the usual crime drama. The principal characters are two cops, one Jewish and one Irish who deal with a racially charged area. The murder of an old Jewish shop owner who proves to be an ancient veteran of the Israeli Independence war triggers the Jewish identity in the mind and heart of the Jewish detective.<br /><br />This is were the flaws of the film are the more obvious. The process of awakening is theatrical and hard to believe, the group of Jewish militants is operatic, and the way the detective eventually walks to the final violent confrontation is pathetic. The end of the film itself is Mamet-like smart, but disappoints from a human emotional perspective.<br /><br />Joe Mantegna and William Macy give strong performances, but the flaws of the story are too evident to be easily compensated.\"\n",
            "Label : 0 (neg)\n",
            "Review: b'Great documentary about the lives of NY firefighters during the worst terrorist attack of all time.. That reason alone is why this should be a must see collectors item.. What shocked me was not only the attacks, but the\"High Fat Diet\" and physical appearance of some of these firefighters. I think a lot of Doctors would agree with me that,in the physical shape they were in, some of these firefighters would NOT of made it to the 79th floor carrying over 60 lbs of gear. Having said that i now have a greater respect for firefighters and i realize becoming a firefighter is a life altering job. The French have a history of making great documentary\\'s and that is what this is, a Great Documentary.....'\n",
            "Label : 1 (pos)\n"
          ]
        }
      ],
      "source": [
        "for text_batch, label_batch in train_ds.take(1):\n",
        "  for i in range(3):\n",
        "    print(f'Review: {text_batch.numpy()[i]}')\n",
        "    label = label_batch.numpy()[i]\n",
        "    print(f'Label : {label} ({class_names[label]})')"
      ]
    },
    {
      "cell_type": "markdown",
      "metadata": {
        "id": "dX8FtlpGJRE6"
      },
      "source": [
        "## Loading models from TensorFlow Hub\n",
        "\n",
        "Here you can choose which BERT model you will load from TensorFlow Hub and fine-tune. There are multiple BERT models available.\n",
        "\n",
        "  - [BERT-Base](https://tfhub.dev/tensorflow/bert_en_uncased_L-12_H-768_A-12/3), [Uncased](https://tfhub.dev/tensorflow/bert_en_uncased_L-12_H-768_A-12/3) and [seven more models](https://tfhub.dev/google/collections/bert/1) with trained weights released by the original BERT authors.\n",
        "  - [Small BERTs](https://tfhub.dev/google/collections/bert/1) have the same general architecture but fewer and/or smaller Transformer blocks, which lets you explore tradeoffs between speed, size and quality.\n",
        "  - [ALBERT](https://tfhub.dev/google/collections/albert/1): four different sizes of \"A Lite BERT\" that reduces model size (but not computation time) by sharing parameters between layers.\n",
        "  - [BERT Experts](https://tfhub.dev/google/collections/experts/bert/1): eight models that all have the BERT-base architecture but offer a choice between different pre-training domains, to align more closely with the target task.\n",
        "  - [Electra](https://tfhub.dev/google/collections/electra/1) has the same architecture as BERT (in three different sizes), but gets pre-trained as a discriminator in a set-up that resembles a Generative Adversarial Network (GAN).\n",
        "  - BERT with Talking-Heads Attention and Gated GELU [[base](https://tfhub.dev/tensorflow/talkheads_ggelu_bert_en_base/1), [large](https://tfhub.dev/tensorflow/talkheads_ggelu_bert_en_large/1)] has two improvements to the core of the Transformer architecture.\n",
        "\n",
        "The model documentation on TensorFlow Hub has more details and references to the\n",
        "research literature. Follow the links above, or click on the [`tfhub.dev`](http://tfhub.dev) URL\n",
        "printed after the next cell execution.\n",
        "\n",
        "The suggestion is to start with a Small BERT (with fewer parameters) since they are faster to fine-tune. If you like a small model but with higher accuracy, ALBERT might be your next option. If you want even better accuracy, choose\n",
        "one of the classic BERT sizes or their recent refinements like Electra, Talking Heads, or a BERT Expert.\n",
        "\n",
        "Aside from the models available below, there are [multiple versions](https://tfhub.dev/google/collections/transformer_encoders_text/1) of the models that are larger and can yield even better accuracy, but they are too big to be fine-tuned on a single GPU. You will be able to do that on the [Solve GLUE tasks using BERT on a TPU colab](https://www.tensorflow.org/text/tutorials/bert_glue).\n",
        "\n",
        "You'll see in the code below that switching the tfhub.dev URL is enough to try any of these models, because all the differences between them are encapsulated in the SavedModels from TF Hub."
      ]
    },
    {
      "cell_type": "code",
      "execution_count": null,
      "metadata": {
        "cellView": "form",
        "colab": {
          "base_uri": "https://localhost:8080/"
        },
        "id": "y8_ctG55-uTX",
        "outputId": "7c4b193b-20bf-459a-ce48-d4cf488712a8"
      },
      "outputs": [
        {
          "name": "stdout",
          "output_type": "stream",
          "text": [
            "BERT model selected           : https://tfhub.dev/tensorflow/small_bert/bert_en_uncased_L-4_H-512_A-8/1\n",
            "Preprocess model auto-selected: https://tfhub.dev/tensorflow/bert_en_uncased_preprocess/3\n"
          ]
        }
      ],
      "source": [
        "#@title Choose a BERT model to fine-tune\n",
        "\n",
        "bert_model_name = 'small_bert/bert_en_uncased_L-4_H-512_A-8'  #@param [\"bert_en_uncased_L-12_H-768_A-12\", \"bert_en_cased_L-12_H-768_A-12\", \"bert_multi_cased_L-12_H-768_A-12\", \"small_bert/bert_en_uncased_L-2_H-128_A-2\", \"small_bert/bert_en_uncased_L-2_H-256_A-4\", \"small_bert/bert_en_uncased_L-2_H-512_A-8\", \"small_bert/bert_en_uncased_L-2_H-768_A-12\", \"small_bert/bert_en_uncased_L-4_H-128_A-2\", \"small_bert/bert_en_uncased_L-4_H-256_A-4\", \"small_bert/bert_en_uncased_L-4_H-512_A-8\", \"small_bert/bert_en_uncased_L-4_H-768_A-12\", \"small_bert/bert_en_uncased_L-6_H-128_A-2\", \"small_bert/bert_en_uncased_L-6_H-256_A-4\", \"small_bert/bert_en_uncased_L-6_H-512_A-8\", \"small_bert/bert_en_uncased_L-6_H-768_A-12\", \"small_bert/bert_en_uncased_L-8_H-128_A-2\", \"small_bert/bert_en_uncased_L-8_H-256_A-4\", \"small_bert/bert_en_uncased_L-8_H-512_A-8\", \"small_bert/bert_en_uncased_L-8_H-768_A-12\", \"small_bert/bert_en_uncased_L-10_H-128_A-2\", \"small_bert/bert_en_uncased_L-10_H-256_A-4\", \"small_bert/bert_en_uncased_L-10_H-512_A-8\", \"small_bert/bert_en_uncased_L-10_H-768_A-12\", \"small_bert/bert_en_uncased_L-12_H-128_A-2\", \"small_bert/bert_en_uncased_L-12_H-256_A-4\", \"small_bert/bert_en_uncased_L-12_H-512_A-8\", \"small_bert/bert_en_uncased_L-12_H-768_A-12\", \"albert_en_base\", \"electra_small\", \"electra_base\", \"experts_pubmed\", \"experts_wiki_books\", \"talking-heads_base\"]\n",
        "\n",
        "map_name_to_handle = {\n",
        "    'bert_en_uncased_L-12_H-768_A-12':\n",
        "        'https://tfhub.dev/tensorflow/bert_en_uncased_L-12_H-768_A-12/3',\n",
        "    'bert_en_cased_L-12_H-768_A-12':\n",
        "        'https://tfhub.dev/tensorflow/bert_en_cased_L-12_H-768_A-12/3',\n",
        "    'bert_multi_cased_L-12_H-768_A-12':\n",
        "        'https://tfhub.dev/tensorflow/bert_multi_cased_L-12_H-768_A-12/3',\n",
        "    'small_bert/bert_en_uncased_L-2_H-128_A-2':\n",
        "        'https://tfhub.dev/tensorflow/small_bert/bert_en_uncased_L-2_H-128_A-2/1',\n",
        "    'small_bert/bert_en_uncased_L-2_H-256_A-4':\n",
        "        'https://tfhub.dev/tensorflow/small_bert/bert_en_uncased_L-2_H-256_A-4/1',\n",
        "    'small_bert/bert_en_uncased_L-2_H-512_A-8':\n",
        "        'https://tfhub.dev/tensorflow/small_bert/bert_en_uncased_L-2_H-512_A-8/1',\n",
        "    'small_bert/bert_en_uncased_L-2_H-768_A-12':\n",
        "        'https://tfhub.dev/tensorflow/small_bert/bert_en_uncased_L-2_H-768_A-12/1',\n",
        "    'small_bert/bert_en_uncased_L-4_H-128_A-2':\n",
        "        'https://tfhub.dev/tensorflow/small_bert/bert_en_uncased_L-4_H-128_A-2/1',\n",
        "    'small_bert/bert_en_uncased_L-4_H-256_A-4':\n",
        "        'https://tfhub.dev/tensorflow/small_bert/bert_en_uncased_L-4_H-256_A-4/1',\n",
        "    'small_bert/bert_en_uncased_L-4_H-512_A-8':\n",
        "        'https://tfhub.dev/tensorflow/small_bert/bert_en_uncased_L-4_H-512_A-8/1',\n",
        "    'small_bert/bert_en_uncased_L-4_H-768_A-12':\n",
        "        'https://tfhub.dev/tensorflow/small_bert/bert_en_uncased_L-4_H-768_A-12/1',\n",
        "    'small_bert/bert_en_uncased_L-6_H-128_A-2':\n",
        "        'https://tfhub.dev/tensorflow/small_bert/bert_en_uncased_L-6_H-128_A-2/1',\n",
        "    'small_bert/bert_en_uncased_L-6_H-256_A-4':\n",
        "        'https://tfhub.dev/tensorflow/small_bert/bert_en_uncased_L-6_H-256_A-4/1',\n",
        "    'small_bert/bert_en_uncased_L-6_H-512_A-8':\n",
        "        'https://tfhub.dev/tensorflow/small_bert/bert_en_uncased_L-6_H-512_A-8/1',\n",
        "    'small_bert/bert_en_uncased_L-6_H-768_A-12':\n",
        "        'https://tfhub.dev/tensorflow/small_bert/bert_en_uncased_L-6_H-768_A-12/1',\n",
        "    'small_bert/bert_en_uncased_L-8_H-128_A-2':\n",
        "        'https://tfhub.dev/tensorflow/small_bert/bert_en_uncased_L-8_H-128_A-2/1',\n",
        "    'small_bert/bert_en_uncased_L-8_H-256_A-4':\n",
        "        'https://tfhub.dev/tensorflow/small_bert/bert_en_uncased_L-8_H-256_A-4/1',\n",
        "    'small_bert/bert_en_uncased_L-8_H-512_A-8':\n",
        "        'https://tfhub.dev/tensorflow/small_bert/bert_en_uncased_L-8_H-512_A-8/1',\n",
        "    'small_bert/bert_en_uncased_L-8_H-768_A-12':\n",
        "        'https://tfhub.dev/tensorflow/small_bert/bert_en_uncased_L-8_H-768_A-12/1',\n",
        "    'small_bert/bert_en_uncased_L-10_H-128_A-2':\n",
        "        'https://tfhub.dev/tensorflow/small_bert/bert_en_uncased_L-10_H-128_A-2/1',\n",
        "    'small_bert/bert_en_uncased_L-10_H-256_A-4':\n",
        "        'https://tfhub.dev/tensorflow/small_bert/bert_en_uncased_L-10_H-256_A-4/1',\n",
        "    'small_bert/bert_en_uncased_L-10_H-512_A-8':\n",
        "        'https://tfhub.dev/tensorflow/small_bert/bert_en_uncased_L-10_H-512_A-8/1',\n",
        "    'small_bert/bert_en_uncased_L-10_H-768_A-12':\n",
        "        'https://tfhub.dev/tensorflow/small_bert/bert_en_uncased_L-10_H-768_A-12/1',\n",
        "    'small_bert/bert_en_uncased_L-12_H-128_A-2':\n",
        "        'https://tfhub.dev/tensorflow/small_bert/bert_en_uncased_L-12_H-128_A-2/1',\n",
        "    'small_bert/bert_en_uncased_L-12_H-256_A-4':\n",
        "        'https://tfhub.dev/tensorflow/small_bert/bert_en_uncased_L-12_H-256_A-4/1',\n",
        "    'small_bert/bert_en_uncased_L-12_H-512_A-8':\n",
        "        'https://tfhub.dev/tensorflow/small_bert/bert_en_uncased_L-12_H-512_A-8/1',\n",
        "    'small_bert/bert_en_uncased_L-12_H-768_A-12':\n",
        "        'https://tfhub.dev/tensorflow/small_bert/bert_en_uncased_L-12_H-768_A-12/1',\n",
        "    'albert_en_base':\n",
        "        'https://tfhub.dev/tensorflow/albert_en_base/2',\n",
        "    'electra_small':\n",
        "        'https://tfhub.dev/google/electra_small/2',\n",
        "    'electra_base':\n",
        "        'https://tfhub.dev/google/electra_base/2',\n",
        "    'experts_pubmed':\n",
        "        'https://tfhub.dev/google/experts/bert/pubmed/2',\n",
        "    'experts_wiki_books':\n",
        "        'https://tfhub.dev/google/experts/bert/wiki_books/2',\n",
        "    'talking-heads_base':\n",
        "        'https://tfhub.dev/tensorflow/talkheads_ggelu_bert_en_base/1',\n",
        "}\n",
        "\n",
        "map_model_to_preprocess = {\n",
        "    'bert_en_uncased_L-12_H-768_A-12':\n",
        "        'https://tfhub.dev/tensorflow/bert_en_uncased_preprocess/3',\n",
        "    'bert_en_cased_L-12_H-768_A-12':\n",
        "        'https://tfhub.dev/tensorflow/bert_en_cased_preprocess/3',\n",
        "    'small_bert/bert_en_uncased_L-2_H-128_A-2':\n",
        "        'https://tfhub.dev/tensorflow/bert_en_uncased_preprocess/3',\n",
        "    'small_bert/bert_en_uncased_L-2_H-256_A-4':\n",
        "        'https://tfhub.dev/tensorflow/bert_en_uncased_preprocess/3',\n",
        "    'small_bert/bert_en_uncased_L-2_H-512_A-8':\n",
        "        'https://tfhub.dev/tensorflow/bert_en_uncased_preprocess/3',\n",
        "    'small_bert/bert_en_uncased_L-2_H-768_A-12':\n",
        "        'https://tfhub.dev/tensorflow/bert_en_uncased_preprocess/3',\n",
        "    'small_bert/bert_en_uncased_L-4_H-128_A-2':\n",
        "        'https://tfhub.dev/tensorflow/bert_en_uncased_preprocess/3',\n",
        "    'small_bert/bert_en_uncased_L-4_H-256_A-4':\n",
        "        'https://tfhub.dev/tensorflow/bert_en_uncased_preprocess/3',\n",
        "    'small_bert/bert_en_uncased_L-4_H-512_A-8':\n",
        "        'https://tfhub.dev/tensorflow/bert_en_uncased_preprocess/3',\n",
        "    'small_bert/bert_en_uncased_L-4_H-768_A-12':\n",
        "        'https://tfhub.dev/tensorflow/bert_en_uncased_preprocess/3',\n",
        "    'small_bert/bert_en_uncased_L-6_H-128_A-2':\n",
        "        'https://tfhub.dev/tensorflow/bert_en_uncased_preprocess/3',\n",
        "    'small_bert/bert_en_uncased_L-6_H-256_A-4':\n",
        "        'https://tfhub.dev/tensorflow/bert_en_uncased_preprocess/3',\n",
        "    'small_bert/bert_en_uncased_L-6_H-512_A-8':\n",
        "        'https://tfhub.dev/tensorflow/bert_en_uncased_preprocess/3',\n",
        "    'small_bert/bert_en_uncased_L-6_H-768_A-12':\n",
        "        'https://tfhub.dev/tensorflow/bert_en_uncased_preprocess/3',\n",
        "    'small_bert/bert_en_uncased_L-8_H-128_A-2':\n",
        "        'https://tfhub.dev/tensorflow/bert_en_uncased_preprocess/3',\n",
        "    'small_bert/bert_en_uncased_L-8_H-256_A-4':\n",
        "        'https://tfhub.dev/tensorflow/bert_en_uncased_preprocess/3',\n",
        "    'small_bert/bert_en_uncased_L-8_H-512_A-8':\n",
        "        'https://tfhub.dev/tensorflow/bert_en_uncased_preprocess/3',\n",
        "    'small_bert/bert_en_uncased_L-8_H-768_A-12':\n",
        "        'https://tfhub.dev/tensorflow/bert_en_uncased_preprocess/3',\n",
        "    'small_bert/bert_en_uncased_L-10_H-128_A-2':\n",
        "        'https://tfhub.dev/tensorflow/bert_en_uncased_preprocess/3',\n",
        "    'small_bert/bert_en_uncased_L-10_H-256_A-4':\n",
        "        'https://tfhub.dev/tensorflow/bert_en_uncased_preprocess/3',\n",
        "    'small_bert/bert_en_uncased_L-10_H-512_A-8':\n",
        "        'https://tfhub.dev/tensorflow/bert_en_uncased_preprocess/3',\n",
        "    'small_bert/bert_en_uncased_L-10_H-768_A-12':\n",
        "        'https://tfhub.dev/tensorflow/bert_en_uncased_preprocess/3',\n",
        "    'small_bert/bert_en_uncased_L-12_H-128_A-2':\n",
        "        'https://tfhub.dev/tensorflow/bert_en_uncased_preprocess/3',\n",
        "    'small_bert/bert_en_uncased_L-12_H-256_A-4':\n",
        "        'https://tfhub.dev/tensorflow/bert_en_uncased_preprocess/3',\n",
        "    'small_bert/bert_en_uncased_L-12_H-512_A-8':\n",
        "        'https://tfhub.dev/tensorflow/bert_en_uncased_preprocess/3',\n",
        "    'small_bert/bert_en_uncased_L-12_H-768_A-12':\n",
        "        'https://tfhub.dev/tensorflow/bert_en_uncased_preprocess/3',\n",
        "    'bert_multi_cased_L-12_H-768_A-12':\n",
        "        'https://tfhub.dev/tensorflow/bert_multi_cased_preprocess/3',\n",
        "    'albert_en_base':\n",
        "        'https://tfhub.dev/tensorflow/albert_en_preprocess/3',\n",
        "    'electra_small':\n",
        "        'https://tfhub.dev/tensorflow/bert_en_uncased_preprocess/3',\n",
        "    'electra_base':\n",
        "        'https://tfhub.dev/tensorflow/bert_en_uncased_preprocess/3',\n",
        "    'experts_pubmed':\n",
        "        'https://tfhub.dev/tensorflow/bert_en_uncased_preprocess/3',\n",
        "    'experts_wiki_books':\n",
        "        'https://tfhub.dev/tensorflow/bert_en_uncased_preprocess/3',\n",
        "    'talking-heads_base':\n",
        "        'https://tfhub.dev/tensorflow/bert_en_uncased_preprocess/3',\n",
        "}\n",
        "\n",
        "tfhub_handle_encoder = map_name_to_handle[bert_model_name]\n",
        "tfhub_handle_preprocess = map_model_to_preprocess[bert_model_name]\n",
        "\n",
        "print(f'BERT model selected           : {tfhub_handle_encoder}')\n",
        "print(f'Preprocess model auto-selected: {tfhub_handle_preprocess}')"
      ]
    },
    {
      "cell_type": "code",
      "execution_count": null,
      "metadata": {
        "colab": {
          "base_uri": "https://localhost:8080/",
          "height": 35
        },
        "id": "fa09DNCFwc1r",
        "outputId": "59505fd4-c867-41e1-e242-e51b0a738062"
      },
      "outputs": [
        {
          "data": {
            "application/vnd.google.colaboratory.intrinsic+json": {
              "type": "string"
            },
            "text/plain": [
              "'https://tfhub.dev/tensorflow/bert_en_uncased_preprocess/3'"
            ]
          },
          "execution_count": 11,
          "metadata": {},
          "output_type": "execute_result"
        }
      ],
      "source": [
        "tfhub_handle_preprocess"
      ]
    },
    {
      "cell_type": "markdown",
      "metadata": {
        "id": "7WrcxxTRDdHi"
      },
      "source": [
        "## The preprocessing model\n",
        "\n",
        "Text inputs need to be transformed to numeric token ids and arranged in several Tensors before being input to BERT. TensorFlow Hub provides a matching preprocessing model for each of the BERT models discussed above, which implements this transformation using TF ops from the TF.text library. It is not necessary to run pure Python code outside your TensorFlow model to preprocess text.\n",
        "\n",
        "The preprocessing model must be the one referenced by the documentation of the BERT model, which you can read at the URL printed above. For BERT models from the drop-down above, the preprocessing model is selected automatically.\n",
        "\n",
        "Note: You will load the preprocessing model into a [hub.KerasLayer](https://www.tensorflow.org/hub/api_docs/python/hub/KerasLayer) to compose your fine-tuned model. This is the preferred API to load a TF2-style SavedModel from TF Hub into a Keras model."
      ]
    },
    {
      "cell_type": "code",
      "execution_count": null,
      "metadata": {
        "id": "0SQi-jWd_jzq"
      },
      "outputs": [],
      "source": [
        "bert_preprocess_model = hub.KerasLayer(tfhub_handle_preprocess)"
      ]
    },
    {
      "cell_type": "markdown",
      "metadata": {
        "id": "x4naBiEE_cZX"
      },
      "source": [
        "Let's try the preprocessing model on some text and see the output:"
      ]
    },
    {
      "cell_type": "code",
      "execution_count": null,
      "metadata": {
        "colab": {
          "base_uri": "https://localhost:8080/"
        },
        "id": "r9-zCzJpnuwS",
        "outputId": "c3a4e5ad-6b1f-4e50-8a73-805fb13d38a6"
      },
      "outputs": [
        {
          "name": "stdout",
          "output_type": "stream",
          "text": [
            "Keys       : ['input_word_ids', 'input_type_ids', 'input_mask']\n",
            "Shape      : (1, 128)\n",
            "Word Ids   : [ 101 2023 2003 2107 2019 6429 3185  999  102    0    0    0]\n",
            "Input Mask : [1 1 1 1 1 1 1 1 1 0 0 0]\n",
            "Type Ids   : [0 0 0 0 0 0 0 0 0 0 0 0]\n"
          ]
        }
      ],
      "source": [
        "text_test = ['this is such an amazing movie!']\n",
        "text_preprocessed = bert_preprocess_model(text_test)\n",
        "\n",
        "print(f'Keys       : {list(text_preprocessed.keys())}')\n",
        "print(f'Shape      : {text_preprocessed[\"input_word_ids\"].shape}')\n",
        "print(f'Word Ids   : {text_preprocessed[\"input_word_ids\"][0, :12]}')\n",
        "print(f'Input Mask : {text_preprocessed[\"input_mask\"][0, :12]}')\n",
        "print(f'Type Ids   : {text_preprocessed[\"input_type_ids\"][0, :12]}')"
      ]
    },
    {
      "cell_type": "code",
      "execution_count": null,
      "metadata": {
        "colab": {
          "base_uri": "https://localhost:8080/"
        },
        "id": "vpUmH6guxUmX",
        "outputId": "c52832d2-4793-41c7-8564-fe8df1cafed1"
      },
      "outputs": [
        {
          "name": "stdout",
          "output_type": "stream",
          "text": [
            "Text preprocessed: {'input_word_ids': <tf.Tensor: shape=(1, 128), dtype=int32, numpy=\n",
            "array([[ 101, 2023, 2003, 2107, 2019, 6429, 3185,  999,  102,    0,    0,\n",
            "           0,    0,    0,    0,    0,    0,    0,    0,    0,    0,    0,\n",
            "           0,    0,    0,    0,    0,    0,    0,    0,    0,    0,    0,\n",
            "           0,    0,    0,    0,    0,    0,    0,    0,    0,    0,    0,\n",
            "           0,    0,    0,    0,    0,    0,    0,    0,    0,    0,    0,\n",
            "           0,    0,    0,    0,    0,    0,    0,    0,    0,    0,    0,\n",
            "           0,    0,    0,    0,    0,    0,    0,    0,    0,    0,    0,\n",
            "           0,    0,    0,    0,    0,    0,    0,    0,    0,    0,    0,\n",
            "           0,    0,    0,    0,    0,    0,    0,    0,    0,    0,    0,\n",
            "           0,    0,    0,    0,    0,    0,    0,    0,    0,    0,    0,\n",
            "           0,    0,    0,    0,    0,    0,    0,    0,    0,    0,    0,\n",
            "           0,    0,    0,    0,    0,    0,    0]], dtype=int32)>, 'input_type_ids': <tf.Tensor: shape=(1, 128), dtype=int32, numpy=\n",
            "array([[0, 0, 0, 0, 0, 0, 0, 0, 0, 0, 0, 0, 0, 0, 0, 0, 0, 0, 0, 0, 0, 0,\n",
            "        0, 0, 0, 0, 0, 0, 0, 0, 0, 0, 0, 0, 0, 0, 0, 0, 0, 0, 0, 0, 0, 0,\n",
            "        0, 0, 0, 0, 0, 0, 0, 0, 0, 0, 0, 0, 0, 0, 0, 0, 0, 0, 0, 0, 0, 0,\n",
            "        0, 0, 0, 0, 0, 0, 0, 0, 0, 0, 0, 0, 0, 0, 0, 0, 0, 0, 0, 0, 0, 0,\n",
            "        0, 0, 0, 0, 0, 0, 0, 0, 0, 0, 0, 0, 0, 0, 0, 0, 0, 0, 0, 0, 0, 0,\n",
            "        0, 0, 0, 0, 0, 0, 0, 0, 0, 0, 0, 0, 0, 0, 0, 0, 0, 0]],\n",
            "      dtype=int32)>, 'input_mask': <tf.Tensor: shape=(1, 128), dtype=int32, numpy=\n",
            "array([[1, 1, 1, 1, 1, 1, 1, 1, 1, 0, 0, 0, 0, 0, 0, 0, 0, 0, 0, 0, 0, 0,\n",
            "        0, 0, 0, 0, 0, 0, 0, 0, 0, 0, 0, 0, 0, 0, 0, 0, 0, 0, 0, 0, 0, 0,\n",
            "        0, 0, 0, 0, 0, 0, 0, 0, 0, 0, 0, 0, 0, 0, 0, 0, 0, 0, 0, 0, 0, 0,\n",
            "        0, 0, 0, 0, 0, 0, 0, 0, 0, 0, 0, 0, 0, 0, 0, 0, 0, 0, 0, 0, 0, 0,\n",
            "        0, 0, 0, 0, 0, 0, 0, 0, 0, 0, 0, 0, 0, 0, 0, 0, 0, 0, 0, 0, 0, 0,\n",
            "        0, 0, 0, 0, 0, 0, 0, 0, 0, 0, 0, 0, 0, 0, 0, 0, 0, 0]],\n",
            "      dtype=int32)>}\n"
          ]
        }
      ],
      "source": [
        "print(f'Text preprocessed: {text_preprocessed}')"
      ]
    },
    {
      "cell_type": "markdown",
      "metadata": {
        "id": "EqL7ihkN_862"
      },
      "source": [
        "As you can see, now you have the 3 outputs from the preprocessing that a BERT model would use (`input_words_id`, `input_mask` and `input_type_ids`).\n",
        "\n",
        "Some other important points:\n",
        "- The input is truncated to 128 tokens. The number of tokens can be customized, and you can see more details on the [Solve GLUE tasks using BERT on a TPU colab](https://www.tensorflow.org/text/tutorials/bert_glue).\n",
        "- The `input_type_ids` only have one value (0) because this is a single sentence input. For a multiple sentence input, it would have one number for each input.\n",
        "\n",
        "Since this text preprocessor is a TensorFlow model, It can be included in your model directly."
      ]
    },
    {
      "cell_type": "markdown",
      "metadata": {
        "id": "DKnLPSEmtp9i"
      },
      "source": [
        "## Using the BERT model\n",
        "\n",
        "Before putting BERT into your own model, let's take a look at its outputs. You will load it from TF Hub and see the returned values."
      ]
    },
    {
      "cell_type": "code",
      "execution_count": null,
      "metadata": {
        "id": "tXxYpK8ixL34"
      },
      "outputs": [],
      "source": [
        "bert_model = hub.KerasLayer(tfhub_handle_encoder)"
      ]
    },
    {
      "cell_type": "code",
      "execution_count": null,
      "metadata": {
        "colab": {
          "base_uri": "https://localhost:8080/"
        },
        "id": "_OoF9mebuSZc",
        "outputId": "f900235d-c3db-484b-d6a2-cccf7fb18211"
      },
      "outputs": [
        {
          "name": "stdout",
          "output_type": "stream",
          "text": [
            "Loaded BERT: https://tfhub.dev/tensorflow/small_bert/bert_en_uncased_L-4_H-512_A-8/1\n",
            "Text Preprocessed: {'input_word_ids': <tf.Tensor: shape=(1, 128), dtype=int32, numpy=\n",
            "array([[ 101, 2023, 2003, 2107, 2019, 6429, 3185,  999,  102,    0,    0,\n",
            "           0,    0,    0,    0,    0,    0,    0,    0,    0,    0,    0,\n",
            "           0,    0,    0,    0,    0,    0,    0,    0,    0,    0,    0,\n",
            "           0,    0,    0,    0,    0,    0,    0,    0,    0,    0,    0,\n",
            "           0,    0,    0,    0,    0,    0,    0,    0,    0,    0,    0,\n",
            "           0,    0,    0,    0,    0,    0,    0,    0,    0,    0,    0,\n",
            "           0,    0,    0,    0,    0,    0,    0,    0,    0,    0,    0,\n",
            "           0,    0,    0,    0,    0,    0,    0,    0,    0,    0,    0,\n",
            "           0,    0,    0,    0,    0,    0,    0,    0,    0,    0,    0,\n",
            "           0,    0,    0,    0,    0,    0,    0,    0,    0,    0,    0,\n",
            "           0,    0,    0,    0,    0,    0,    0,    0,    0,    0,    0,\n",
            "           0,    0,    0,    0,    0,    0,    0]], dtype=int32)>, 'input_type_ids': <tf.Tensor: shape=(1, 128), dtype=int32, numpy=\n",
            "array([[0, 0, 0, 0, 0, 0, 0, 0, 0, 0, 0, 0, 0, 0, 0, 0, 0, 0, 0, 0, 0, 0,\n",
            "        0, 0, 0, 0, 0, 0, 0, 0, 0, 0, 0, 0, 0, 0, 0, 0, 0, 0, 0, 0, 0, 0,\n",
            "        0, 0, 0, 0, 0, 0, 0, 0, 0, 0, 0, 0, 0, 0, 0, 0, 0, 0, 0, 0, 0, 0,\n",
            "        0, 0, 0, 0, 0, 0, 0, 0, 0, 0, 0, 0, 0, 0, 0, 0, 0, 0, 0, 0, 0, 0,\n",
            "        0, 0, 0, 0, 0, 0, 0, 0, 0, 0, 0, 0, 0, 0, 0, 0, 0, 0, 0, 0, 0, 0,\n",
            "        0, 0, 0, 0, 0, 0, 0, 0, 0, 0, 0, 0, 0, 0, 0, 0, 0, 0]],\n",
            "      dtype=int32)>, 'input_mask': <tf.Tensor: shape=(1, 128), dtype=int32, numpy=\n",
            "array([[1, 1, 1, 1, 1, 1, 1, 1, 1, 0, 0, 0, 0, 0, 0, 0, 0, 0, 0, 0, 0, 0,\n",
            "        0, 0, 0, 0, 0, 0, 0, 0, 0, 0, 0, 0, 0, 0, 0, 0, 0, 0, 0, 0, 0, 0,\n",
            "        0, 0, 0, 0, 0, 0, 0, 0, 0, 0, 0, 0, 0, 0, 0, 0, 0, 0, 0, 0, 0, 0,\n",
            "        0, 0, 0, 0, 0, 0, 0, 0, 0, 0, 0, 0, 0, 0, 0, 0, 0, 0, 0, 0, 0, 0,\n",
            "        0, 0, 0, 0, 0, 0, 0, 0, 0, 0, 0, 0, 0, 0, 0, 0, 0, 0, 0, 0, 0, 0,\n",
            "        0, 0, 0, 0, 0, 0, 0, 0, 0, 0, 0, 0, 0, 0, 0, 0, 0, 0]],\n",
            "      dtype=int32)>}\n",
            "Keys :dict_keys(['encoder_outputs', 'pooled_output', 'sequence_output', 'default'])\n",
            "Pooled Outputs Shape:(1, 512)\n",
            "Pooled Outputs Values:[ 0.76262885  0.9928098  -0.18611854  0.3667382   0.15233713  0.6550445\n",
            "  0.9681154  -0.94862705  0.00216197 -0.9877732   0.06842727 -0.9763061 ]\n",
            "Sequence Outputs Shape:(1, 128, 512)\n",
            "Sequence Outputs Values:[[-0.28946334  0.3432125   0.3323145  ...  0.21300784  0.7102074\n",
            "  -0.05771092]\n",
            " [-0.28742123  0.3198099  -0.23018596 ...  0.58455014 -0.21329784\n",
            "   0.72692066]\n",
            " [-0.66157025  0.688768   -0.87433004 ...  0.10877235 -0.26173162\n",
            "   0.47855377]\n",
            " ...\n",
            " [-0.2256119  -0.28925598 -0.07064441 ...  0.47565997  0.8327708\n",
            "   0.40025336]\n",
            " [-0.2982425  -0.2747312  -0.05450571 ...  0.48849723  1.0955361\n",
            "   0.18163359]\n",
            " [-0.44378188  0.00930776  0.07223673 ...  0.17290118  1.183324\n",
            "   0.07897983]]\n"
          ]
        }
      ],
      "source": [
        "bert_results = bert_model(text_preprocessed)\n",
        "\n",
        "print(f'Loaded BERT: {tfhub_handle_encoder}')\n",
        "print(f'Text Preprocessed: {text_preprocessed}')\n",
        "print(f'Keys :{bert_results.keys()}')\n",
        "print(f'Pooled Outputs Shape:{bert_results[\"pooled_output\"].shape}')\n",
        "print(f'Pooled Outputs Values:{bert_results[\"pooled_output\"][0, :12]}')\n",
        "print(f'Sequence Outputs Shape:{bert_results[\"sequence_output\"].shape}')\n",
        "print(f'Sequence Outputs Values:{bert_results[\"sequence_output\"][0, :12]}')"
      ]
    },
    {
      "cell_type": "code",
      "execution_count": null,
      "metadata": {
        "colab": {
          "base_uri": "https://localhost:8080/"
        },
        "id": "PdMPrD3O4mvR",
        "outputId": "b6258595-4d8c-4168-b6b0-a01f6aef6bf3"
      },
      "outputs": [
        {
          "data": {
            "text/plain": [
              "{'default': <tf.Tensor: shape=(1, 512), dtype=float32, numpy=\n",
              " array([[ 7.62628853e-01,  9.92809772e-01, -1.86118543e-01,\n",
              "          3.66738200e-01,  1.52337134e-01,  6.55044496e-01,\n",
              "          9.68115389e-01, -9.48627055e-01,  2.16196850e-03,\n",
              "         -9.87773180e-01,  6.84272721e-02, -9.76306081e-01,\n",
              "          2.99958795e-01, -9.99825835e-01,  2.18229324e-01,\n",
              "          4.57802653e-01,  1.28510326e-01,  2.62946784e-01,\n",
              "         -4.03386205e-01, -1.70664579e-01,  1.30039975e-01,\n",
              "         -1.20208673e-01, -9.34154630e-01,  2.52414644e-01,\n",
              "          9.80566919e-01,  9.85106587e-01, -3.83478463e-01,\n",
              "         -6.19301870e-02,  3.53126705e-01,  9.61802363e-01,\n",
              "          4.37848896e-01, -7.62058124e-02,  3.83451700e-01,\n",
              "         -3.99953038e-01,  3.88874978e-01, -7.05700368e-02,\n",
              "         -1.84963897e-01, -3.74650598e-01, -8.90866458e-01,\n",
              "         -2.45328099e-01,  1.48197291e-02, -4.44229729e-02,\n",
              "          8.27984810e-02, -6.79375470e-01,  1.38857484e-01,\n",
              "         -9.11619365e-02, -9.95979846e-01,  2.31295615e-01,\n",
              "          2.47622311e-01, -3.34113479e-01,  9.97976124e-01,\n",
              "         -3.57810855e-01,  9.73542154e-01, -6.24328673e-01,\n",
              "          3.07091802e-01,  1.60279766e-01, -1.44825980e-01,\n",
              "         -1.74540862e-01, -9.99539256e-01, -9.98977780e-01,\n",
              "          9.33451802e-02, -2.23836020e-01,  9.98142064e-01,\n",
              "         -9.03364867e-02,  2.15027601e-01, -9.98293936e-01,\n",
              "         -9.90498811e-05,  7.61684000e-01,  9.14674252e-02,\n",
              "          8.81124586e-02,  9.83048618e-01,  9.94190991e-01,\n",
              "         -1.54018834e-01, -9.71209109e-01, -5.48702538e-01,\n",
              "          1.66939139e-01, -2.95076370e-01,  9.85258639e-01,\n",
              "         -1.94796667e-01, -2.55096227e-01, -9.84164655e-01,\n",
              "         -1.20103970e-01,  9.94991958e-01, -6.19594276e-01,\n",
              "          9.92243469e-01, -9.99621987e-01,  3.39152128e-01,\n",
              "          1.73367053e-01, -4.22022760e-01, -1.96295694e-01,\n",
              "         -9.92719650e-01, -1.32573619e-01,  5.47868490e-01,\n",
              "         -9.88404751e-01, -7.75913179e-01, -6.40168190e-01,\n",
              "          9.49923158e-01, -8.66906494e-02, -2.01917514e-01,\n",
              "         -3.64012450e-01, -5.82452178e-01, -8.21321726e-01,\n",
              "         -9.77031052e-01,  2.20602289e-01, -2.86965936e-01,\n",
              "          6.63210750e-02,  9.90430951e-01,  2.88470805e-01,\n",
              "         -5.31456411e-01,  4.80063349e-01, -2.04794124e-01,\n",
              "          4.23700958e-01,  9.88471150e-01, -9.96448934e-01,\n",
              "         -2.51450866e-01,  3.83189976e-01,  4.96087134e-01,\n",
              "          9.17864621e-01, -1.38127711e-04,  9.97011960e-01,\n",
              "         -9.83851552e-01,  7.47373402e-02, -9.89918828e-01,\n",
              "          9.26546037e-01, -3.78851503e-01, -1.50043875e-01,\n",
              "         -1.97117090e-01,  1.94223806e-01, -5.58379591e-02,\n",
              "         -2.55652696e-01,  9.94940698e-01,  9.98859048e-01,\n",
              "          9.68727887e-01,  2.58113921e-01,  4.80596453e-01,\n",
              "         -9.06892300e-01,  9.66376245e-01, -9.91291940e-01,\n",
              "         -5.39943993e-01,  3.43861729e-01,  9.99972880e-01,\n",
              "          4.13956016e-01, -6.25356078e-01,  6.28901362e-01,\n",
              "         -2.16055438e-01,  9.91671562e-01, -9.60305095e-01,\n",
              "          7.08349526e-01, -1.32944018e-01, -2.14211375e-01,\n",
              "         -4.86383140e-02, -3.06360781e-01,  9.70957041e-01,\n",
              "          1.59732908e-01,  2.91158348e-01, -2.12716311e-01,\n",
              "         -8.49497139e-01,  9.12067056e-01,  3.97582203e-01,\n",
              "          5.38031422e-02, -1.95851699e-01,  2.95858562e-01,\n",
              "         -4.26905245e-01, -6.73463225e-01,  9.99596715e-01,\n",
              "          2.33254023e-02, -2.91728973e-01, -4.49446023e-01,\n",
              "          9.97131169e-01,  5.44568598e-01,  1.20992884e-01,\n",
              "         -9.88504887e-01,  9.60839987e-01, -9.53754187e-01,\n",
              "          6.92339242e-01,  4.48572010e-01,  1.41911149e-01,\n",
              "          3.84910226e-01,  9.99748588e-01,  6.78024590e-01,\n",
              "          9.82404828e-01, -4.95661870e-02,  9.94555116e-01,\n",
              "         -8.79285395e-01,  7.96881020e-01, -9.80414808e-01,\n",
              "         -9.71915960e-01, -7.69297183e-01, -1.29525468e-01,\n",
              "          9.96294260e-01,  1.78356826e-01, -5.21232724e-01,\n",
              "         -9.99227345e-01, -5.26329279e-01,  9.99500930e-01,\n",
              "          2.99652845e-01, -8.71599257e-01, -9.94495034e-01,\n",
              "          9.43198740e-01,  2.34441578e-01,  3.92223209e-01,\n",
              "         -3.84546429e-01,  2.37305820e-01,  1.72320008e-01,\n",
              "         -5.35275817e-01,  9.49814379e-01, -3.85073841e-01,\n",
              "          9.62388515e-01,  9.95478511e-01,  2.95417011e-01,\n",
              "          3.17407668e-01,  4.58250225e-01, -1.40972316e-01,\n",
              "          1.79099903e-01,  9.92426157e-01, -9.38459218e-01,\n",
              "          9.27345693e-01,  9.66441691e-01,  9.78223622e-01,\n",
              "          1.14648819e-01, -9.90929544e-01, -5.89736104e-01,\n",
              "         -9.50371742e-01,  1.49873778e-01,  8.51661921e-01,\n",
              "          3.26818526e-01, -9.81222034e-01,  5.63782632e-01,\n",
              "         -9.95843291e-01,  9.79191899e-01, -8.95179734e-02,\n",
              "         -2.06956193e-02, -1.32529601e-01,  1.38084903e-01,\n",
              "          9.64455724e-01,  2.11848021e-01, -7.90156305e-01,\n",
              "          4.17950302e-01,  3.46748650e-01, -8.07009265e-02,\n",
              "          9.49249268e-01,  9.99973595e-01, -8.92258227e-01,\n",
              "          9.40616190e-01,  6.99490368e-01,  6.78396165e-01,\n",
              "          9.95642483e-01,  1.28700316e-01,  9.60242510e-01,\n",
              "          2.53916308e-02, -2.69453645e-01, -6.14463985e-02,\n",
              "         -6.54865623e-01,  5.25081933e-01,  9.90854919e-01,\n",
              "         -1.64652139e-01, -1.15863547e-01, -9.98729169e-01,\n",
              "          7.50907123e-01,  8.23737442e-01, -5.44667423e-01,\n",
              "         -9.94099915e-01, -4.19651270e-01, -6.45315409e-01,\n",
              "         -3.14369611e-02,  9.98141468e-01,  4.87910658e-01,\n",
              "         -8.65992367e-01,  1.45727709e-01,  1.87729701e-01,\n",
              "          9.98382628e-01,  1.46595880e-01, -9.86287177e-01,\n",
              "          9.99789417e-01, -3.91179621e-01, -9.91036355e-01,\n",
              "          9.95312333e-01,  6.41600341e-02, -9.08387303e-01,\n",
              "         -1.58141434e-01, -9.91545558e-01, -9.99215364e-01,\n",
              "          8.03015649e-01,  9.98973846e-01, -3.32496613e-01,\n",
              "         -8.42092112e-02,  3.73413771e-01,  2.70733595e-01,\n",
              "         -9.89446223e-01, -9.99516487e-01, -7.70957470e-01,\n",
              "          6.21771403e-02,  4.36927676e-01,  9.24941421e-01,\n",
              "          9.97540295e-01, -9.98088777e-01, -2.45038480e-01,\n",
              "          9.74303305e-01, -7.94610605e-02,  9.93370831e-01,\n",
              "          9.99451041e-01, -7.07644463e-01, -8.30896080e-01,\n",
              "          8.98295820e-01, -1.01530485e-01, -1.71470329e-01,\n",
              "          4.74043339e-01,  9.95530903e-01, -8.80129710e-02,\n",
              "          4.70759839e-01,  2.22401887e-01,  7.33649254e-01,\n",
              "         -7.37257674e-02,  7.59145975e-01,  8.12294543e-01,\n",
              "          1.41527236e-01,  3.76019090e-01,  3.39544863e-01,\n",
              "          5.80030262e-01,  9.99790430e-01, -1.79859862e-01,\n",
              "          1.99039027e-01, -4.69460309e-01,  8.70560884e-01,\n",
              "         -2.37593457e-01, -4.47978586e-01, -8.65355730e-01,\n",
              "          7.65121400e-01, -9.90383327e-01,  3.82324219e-01,\n",
              "          6.48539424e-01,  2.66881049e-01, -3.27811688e-01,\n",
              "          7.71422505e-01, -1.29253387e-01, -3.89293045e-01,\n",
              "          6.93514571e-02, -8.94340396e-01, -9.60046232e-01,\n",
              "          3.71891975e-01,  9.99563336e-01, -3.90959419e-02,\n",
              "         -4.88997549e-01,  9.90934789e-01, -2.67011166e-01,\n",
              "          9.82963204e-01,  8.56696844e-01,  9.99372423e-01,\n",
              "         -1.92579210e-01,  9.96981084e-01,  2.10357487e-01,\n",
              "          2.84461021e-01,  9.65793654e-02,  2.44745269e-01,\n",
              "          9.76513565e-01,  4.05047297e-01, -6.81259453e-01,\n",
              "         -1.93609700e-01, -4.84824896e-01,  2.30696455e-01,\n",
              "         -9.99203742e-01, -9.56096530e-01, -5.79378068e-01,\n",
              "         -3.96879837e-02, -5.73907569e-02, -9.74193513e-01,\n",
              "         -9.73427594e-01,  1.00151978e-01,  2.40723282e-01,\n",
              "          1.62927777e-01,  2.42329136e-01,  9.43726063e-01,\n",
              "         -6.38533533e-02,  1.26870409e-01, -7.18344629e-01,\n",
              "         -9.92574394e-01, -7.11846426e-02, -1.46030501e-01,\n",
              "         -4.83590156e-01, -6.13327026e-01,  7.13953793e-01,\n",
              "         -1.53984830e-01, -9.97635961e-01,  2.99064875e-01,\n",
              "          9.98741090e-01,  8.56168985e-01,  3.11262757e-01,\n",
              "         -4.50186193e-01,  9.73553658e-01, -2.72070497e-01,\n",
              "         -1.30773261e-01,  9.94025290e-01, -9.99943078e-01,\n",
              "         -8.85477811e-02, -3.88364613e-01, -8.56459513e-02,\n",
              "          1.23220235e-01, -4.03663784e-01,  9.99085605e-01,\n",
              "          2.30324455e-02, -4.24665987e-01, -9.42262650e-01,\n",
              "          3.93936664e-01, -1.33295292e-02,  9.59552050e-01,\n",
              "          1.57278646e-02, -9.25130963e-01, -1.93070516e-01,\n",
              "         -2.65474856e-01, -9.99908686e-01,  9.78813589e-01,\n",
              "          4.50990617e-01, -9.99000072e-01,  2.61028796e-01,\n",
              "         -6.55636370e-01,  5.67904651e-01,  1.85161248e-01,\n",
              "         -9.02370393e-01, -1.27932042e-01, -9.99364913e-01,\n",
              "         -4.35874611e-01,  9.97788668e-01, -3.16906154e-01,\n",
              "          9.62255776e-01,  2.90363669e-01, -9.50056493e-01,\n",
              "         -2.74001718e-01, -1.88336112e-02,  2.15329826e-01,\n",
              "          2.70551115e-01,  4.60419297e-01, -9.78495777e-01,\n",
              "          9.95513856e-01, -9.37972963e-01,  7.95150399e-01,\n",
              "          1.82261378e-01, -8.90303254e-01, -8.80954742e-01,\n",
              "         -3.77924174e-01,  7.56196901e-02, -3.23662996e-01,\n",
              "         -9.85925734e-01, -9.98959482e-01, -6.33480847e-02,\n",
              "         -9.98691916e-01, -8.01522434e-01, -9.85162318e-01,\n",
              "          2.47793570e-01, -4.02585655e-01,  1.03882290e-01,\n",
              "         -1.52592182e-01,  2.09507823e-01,  2.19179727e-02,\n",
              "          5.76247513e-01,  1.60194173e-01,  9.98519540e-01,\n",
              "         -4.26371664e-01, -2.99708337e-01, -3.94283980e-01,\n",
              "          9.93945956e-01,  8.77698779e-01,  1.11086264e-01,\n",
              "         -9.98374939e-01,  4.53648627e-01,  9.91885602e-01,\n",
              "          9.16699469e-01,  8.71488392e-01,  9.96536851e-01,\n",
              "         -9.29224312e-01, -1.06886521e-01,  3.26357037e-01,\n",
              "         -5.76192081e-01,  7.50882268e-01, -1.37595981e-01,\n",
              "          6.93647087e-01, -9.98303175e-01, -9.70150948e-01,\n",
              "         -3.42499353e-02, -9.87183750e-01,  9.42197144e-01,\n",
              "          3.47525001e-01,  2.69227117e-01,  4.51329410e-01,\n",
              "          3.19435388e-01, -2.51565248e-01, -8.42267156e-01,\n",
              "         -9.86535788e-01, -6.13613546e-01,  1.50642484e-01,\n",
              "         -3.69367063e-01, -1.50070608e-01, -9.99991059e-01,\n",
              "         -9.76706505e-01,  4.00267273e-01,  2.16104642e-01,\n",
              "          2.96439938e-02, -5.82244098e-02,  2.13437423e-01,\n",
              "         -8.18849385e-01,  9.99166667e-01, -8.80628824e-01,\n",
              "         -1.37993664e-01,  3.45503762e-02,  7.73415044e-02,\n",
              "          6.84453622e-02, -1.80267543e-01,  9.59138036e-01,\n",
              "          7.51162767e-01,  1.32814631e-01,  2.18579888e-01,\n",
              "         -4.58394855e-01, -2.02125646e-02]], dtype=float32)>,\n",
              " 'encoder_outputs': [<tf.Tensor: shape=(1, 128, 512), dtype=float32, numpy=\n",
              "  array([[[-0.06295876, -0.11105285, -0.09978342, ..., -0.6856477 ,\n",
              "           -0.00407182, -0.11052171],\n",
              "          [-1.2244796 ,  0.4748089 ,  1.4847252 , ...,  0.1814363 ,\n",
              "           -0.07059331,  0.5147971 ],\n",
              "          [-0.14552228,  0.69274646,  0.25901467, ..., -0.24963415,\n",
              "            0.31400174,  0.1063813 ],\n",
              "          ...,\n",
              "          [ 0.1939108 , -1.041437  ,  0.13234296, ...,  0.4833561 ,\n",
              "            0.05794953,  0.69196844],\n",
              "          [ 0.4183821 , -1.4511172 ,  0.45226446, ...,  0.5396899 ,\n",
              "           -0.27019385,  0.7139552 ],\n",
              "          [ 0.82729805, -1.2287498 ,  0.76959413, ...,  0.36243698,\n",
              "            0.50261426,  0.5086676 ]]], dtype=float32)>,\n",
              "  <tf.Tensor: shape=(1, 128, 512), dtype=float32, numpy=\n",
              "  array([[[-0.06680918,  0.6666773 , -0.5785878 , ...,  0.05077481,\n",
              "            0.33134183, -0.38221177],\n",
              "          [-1.1505065 ,  0.81332743,  0.69164586, ...,  0.8562512 ,\n",
              "           -0.15926166,  0.3378437 ],\n",
              "          [-0.566011  ,  1.2607758 ,  0.02074708, ...,  0.18951753,\n",
              "           -0.28771463,  0.2787548 ],\n",
              "          ...,\n",
              "          [ 0.12957147, -0.25208426, -0.28803498, ...,  0.6268497 ,\n",
              "            0.26911417,  0.37923095],\n",
              "          [-0.01897642, -0.26435333,  0.02565501, ...,  0.89059395,\n",
              "           -0.04837503,  0.51593447],\n",
              "          [ 0.03459034, -0.25037628,  0.16714805, ...,  0.70226246,\n",
              "            0.5225476 ,  0.2919386 ]]], dtype=float32)>,\n",
              "  <tf.Tensor: shape=(1, 128, 512), dtype=float32, numpy=\n",
              "  array([[[-0.5085992 ,  0.5878282 , -0.23816375, ...,  0.11439943,\n",
              "            0.14917359,  0.02905569],\n",
              "          [-0.9258725 ,  0.50119907,  0.45877105, ...,  0.9532699 ,\n",
              "           -0.24297199,  0.74963105],\n",
              "          [-0.88641316,  0.85034347, -0.5377835 , ...,  0.22808054,\n",
              "           -0.40447387,  0.22392677],\n",
              "          ...,\n",
              "          [ 0.32143757, -0.17559427, -0.36333242, ...,  0.8035515 ,\n",
              "           -0.07853504,  0.24492782],\n",
              "          [-0.42457163, -0.5741011 , -0.12558874, ...,  0.7957452 ,\n",
              "           -0.15693247,  0.54348826],\n",
              "          [-0.9143489 , -0.57437   , -0.12035435, ...,  0.95947355,\n",
              "            0.1452499 ,  0.7741578 ]]], dtype=float32)>,\n",
              "  <tf.Tensor: shape=(1, 128, 512), dtype=float32, numpy=\n",
              "  array([[[-0.28946334,  0.3432125 ,  0.3323145 , ...,  0.21300784,\n",
              "            0.7102074 , -0.05771092],\n",
              "          [-0.28742123,  0.3198099 , -0.23018596, ...,  0.58455014,\n",
              "           -0.21329784,  0.72692066],\n",
              "          [-0.66157025,  0.688768  , -0.87433004, ...,  0.10877235,\n",
              "           -0.26173162,  0.47855377],\n",
              "          ...,\n",
              "          [ 0.07634869, -0.1402928 , -0.23991919, ...,  0.4310994 ,\n",
              "            0.9132688 ,  0.21486562],\n",
              "          [-0.44950598, -0.41251948, -0.1845078 , ...,  0.42683178,\n",
              "            0.57654625,  0.58352417],\n",
              "          [-1.0125365 , -0.86389214,  0.05829315, ...,  0.33312115,\n",
              "            0.3652097 ,  0.94291836]]], dtype=float32)>],\n",
              " 'pooled_output': <tf.Tensor: shape=(1, 512), dtype=float32, numpy=\n",
              " array([[ 7.62628853e-01,  9.92809772e-01, -1.86118543e-01,\n",
              "          3.66738200e-01,  1.52337134e-01,  6.55044496e-01,\n",
              "          9.68115389e-01, -9.48627055e-01,  2.16196850e-03,\n",
              "         -9.87773180e-01,  6.84272721e-02, -9.76306081e-01,\n",
              "          2.99958795e-01, -9.99825835e-01,  2.18229324e-01,\n",
              "          4.57802653e-01,  1.28510326e-01,  2.62946784e-01,\n",
              "         -4.03386205e-01, -1.70664579e-01,  1.30039975e-01,\n",
              "         -1.20208673e-01, -9.34154630e-01,  2.52414644e-01,\n",
              "          9.80566919e-01,  9.85106587e-01, -3.83478463e-01,\n",
              "         -6.19301870e-02,  3.53126705e-01,  9.61802363e-01,\n",
              "          4.37848896e-01, -7.62058124e-02,  3.83451700e-01,\n",
              "         -3.99953038e-01,  3.88874978e-01, -7.05700368e-02,\n",
              "         -1.84963897e-01, -3.74650598e-01, -8.90866458e-01,\n",
              "         -2.45328099e-01,  1.48197291e-02, -4.44229729e-02,\n",
              "          8.27984810e-02, -6.79375470e-01,  1.38857484e-01,\n",
              "         -9.11619365e-02, -9.95979846e-01,  2.31295615e-01,\n",
              "          2.47622311e-01, -3.34113479e-01,  9.97976124e-01,\n",
              "         -3.57810855e-01,  9.73542154e-01, -6.24328673e-01,\n",
              "          3.07091802e-01,  1.60279766e-01, -1.44825980e-01,\n",
              "         -1.74540862e-01, -9.99539256e-01, -9.98977780e-01,\n",
              "          9.33451802e-02, -2.23836020e-01,  9.98142064e-01,\n",
              "         -9.03364867e-02,  2.15027601e-01, -9.98293936e-01,\n",
              "         -9.90498811e-05,  7.61684000e-01,  9.14674252e-02,\n",
              "          8.81124586e-02,  9.83048618e-01,  9.94190991e-01,\n",
              "         -1.54018834e-01, -9.71209109e-01, -5.48702538e-01,\n",
              "          1.66939139e-01, -2.95076370e-01,  9.85258639e-01,\n",
              "         -1.94796667e-01, -2.55096227e-01, -9.84164655e-01,\n",
              "         -1.20103970e-01,  9.94991958e-01, -6.19594276e-01,\n",
              "          9.92243469e-01, -9.99621987e-01,  3.39152128e-01,\n",
              "          1.73367053e-01, -4.22022760e-01, -1.96295694e-01,\n",
              "         -9.92719650e-01, -1.32573619e-01,  5.47868490e-01,\n",
              "         -9.88404751e-01, -7.75913179e-01, -6.40168190e-01,\n",
              "          9.49923158e-01, -8.66906494e-02, -2.01917514e-01,\n",
              "         -3.64012450e-01, -5.82452178e-01, -8.21321726e-01,\n",
              "         -9.77031052e-01,  2.20602289e-01, -2.86965936e-01,\n",
              "          6.63210750e-02,  9.90430951e-01,  2.88470805e-01,\n",
              "         -5.31456411e-01,  4.80063349e-01, -2.04794124e-01,\n",
              "          4.23700958e-01,  9.88471150e-01, -9.96448934e-01,\n",
              "         -2.51450866e-01,  3.83189976e-01,  4.96087134e-01,\n",
              "          9.17864621e-01, -1.38127711e-04,  9.97011960e-01,\n",
              "         -9.83851552e-01,  7.47373402e-02, -9.89918828e-01,\n",
              "          9.26546037e-01, -3.78851503e-01, -1.50043875e-01,\n",
              "         -1.97117090e-01,  1.94223806e-01, -5.58379591e-02,\n",
              "         -2.55652696e-01,  9.94940698e-01,  9.98859048e-01,\n",
              "          9.68727887e-01,  2.58113921e-01,  4.80596453e-01,\n",
              "         -9.06892300e-01,  9.66376245e-01, -9.91291940e-01,\n",
              "         -5.39943993e-01,  3.43861729e-01,  9.99972880e-01,\n",
              "          4.13956016e-01, -6.25356078e-01,  6.28901362e-01,\n",
              "         -2.16055438e-01,  9.91671562e-01, -9.60305095e-01,\n",
              "          7.08349526e-01, -1.32944018e-01, -2.14211375e-01,\n",
              "         -4.86383140e-02, -3.06360781e-01,  9.70957041e-01,\n",
              "          1.59732908e-01,  2.91158348e-01, -2.12716311e-01,\n",
              "         -8.49497139e-01,  9.12067056e-01,  3.97582203e-01,\n",
              "          5.38031422e-02, -1.95851699e-01,  2.95858562e-01,\n",
              "         -4.26905245e-01, -6.73463225e-01,  9.99596715e-01,\n",
              "          2.33254023e-02, -2.91728973e-01, -4.49446023e-01,\n",
              "          9.97131169e-01,  5.44568598e-01,  1.20992884e-01,\n",
              "         -9.88504887e-01,  9.60839987e-01, -9.53754187e-01,\n",
              "          6.92339242e-01,  4.48572010e-01,  1.41911149e-01,\n",
              "          3.84910226e-01,  9.99748588e-01,  6.78024590e-01,\n",
              "          9.82404828e-01, -4.95661870e-02,  9.94555116e-01,\n",
              "         -8.79285395e-01,  7.96881020e-01, -9.80414808e-01,\n",
              "         -9.71915960e-01, -7.69297183e-01, -1.29525468e-01,\n",
              "          9.96294260e-01,  1.78356826e-01, -5.21232724e-01,\n",
              "         -9.99227345e-01, -5.26329279e-01,  9.99500930e-01,\n",
              "          2.99652845e-01, -8.71599257e-01, -9.94495034e-01,\n",
              "          9.43198740e-01,  2.34441578e-01,  3.92223209e-01,\n",
              "         -3.84546429e-01,  2.37305820e-01,  1.72320008e-01,\n",
              "         -5.35275817e-01,  9.49814379e-01, -3.85073841e-01,\n",
              "          9.62388515e-01,  9.95478511e-01,  2.95417011e-01,\n",
              "          3.17407668e-01,  4.58250225e-01, -1.40972316e-01,\n",
              "          1.79099903e-01,  9.92426157e-01, -9.38459218e-01,\n",
              "          9.27345693e-01,  9.66441691e-01,  9.78223622e-01,\n",
              "          1.14648819e-01, -9.90929544e-01, -5.89736104e-01,\n",
              "         -9.50371742e-01,  1.49873778e-01,  8.51661921e-01,\n",
              "          3.26818526e-01, -9.81222034e-01,  5.63782632e-01,\n",
              "         -9.95843291e-01,  9.79191899e-01, -8.95179734e-02,\n",
              "         -2.06956193e-02, -1.32529601e-01,  1.38084903e-01,\n",
              "          9.64455724e-01,  2.11848021e-01, -7.90156305e-01,\n",
              "          4.17950302e-01,  3.46748650e-01, -8.07009265e-02,\n",
              "          9.49249268e-01,  9.99973595e-01, -8.92258227e-01,\n",
              "          9.40616190e-01,  6.99490368e-01,  6.78396165e-01,\n",
              "          9.95642483e-01,  1.28700316e-01,  9.60242510e-01,\n",
              "          2.53916308e-02, -2.69453645e-01, -6.14463985e-02,\n",
              "         -6.54865623e-01,  5.25081933e-01,  9.90854919e-01,\n",
              "         -1.64652139e-01, -1.15863547e-01, -9.98729169e-01,\n",
              "          7.50907123e-01,  8.23737442e-01, -5.44667423e-01,\n",
              "         -9.94099915e-01, -4.19651270e-01, -6.45315409e-01,\n",
              "         -3.14369611e-02,  9.98141468e-01,  4.87910658e-01,\n",
              "         -8.65992367e-01,  1.45727709e-01,  1.87729701e-01,\n",
              "          9.98382628e-01,  1.46595880e-01, -9.86287177e-01,\n",
              "          9.99789417e-01, -3.91179621e-01, -9.91036355e-01,\n",
              "          9.95312333e-01,  6.41600341e-02, -9.08387303e-01,\n",
              "         -1.58141434e-01, -9.91545558e-01, -9.99215364e-01,\n",
              "          8.03015649e-01,  9.98973846e-01, -3.32496613e-01,\n",
              "         -8.42092112e-02,  3.73413771e-01,  2.70733595e-01,\n",
              "         -9.89446223e-01, -9.99516487e-01, -7.70957470e-01,\n",
              "          6.21771403e-02,  4.36927676e-01,  9.24941421e-01,\n",
              "          9.97540295e-01, -9.98088777e-01, -2.45038480e-01,\n",
              "          9.74303305e-01, -7.94610605e-02,  9.93370831e-01,\n",
              "          9.99451041e-01, -7.07644463e-01, -8.30896080e-01,\n",
              "          8.98295820e-01, -1.01530485e-01, -1.71470329e-01,\n",
              "          4.74043339e-01,  9.95530903e-01, -8.80129710e-02,\n",
              "          4.70759839e-01,  2.22401887e-01,  7.33649254e-01,\n",
              "         -7.37257674e-02,  7.59145975e-01,  8.12294543e-01,\n",
              "          1.41527236e-01,  3.76019090e-01,  3.39544863e-01,\n",
              "          5.80030262e-01,  9.99790430e-01, -1.79859862e-01,\n",
              "          1.99039027e-01, -4.69460309e-01,  8.70560884e-01,\n",
              "         -2.37593457e-01, -4.47978586e-01, -8.65355730e-01,\n",
              "          7.65121400e-01, -9.90383327e-01,  3.82324219e-01,\n",
              "          6.48539424e-01,  2.66881049e-01, -3.27811688e-01,\n",
              "          7.71422505e-01, -1.29253387e-01, -3.89293045e-01,\n",
              "          6.93514571e-02, -8.94340396e-01, -9.60046232e-01,\n",
              "          3.71891975e-01,  9.99563336e-01, -3.90959419e-02,\n",
              "         -4.88997549e-01,  9.90934789e-01, -2.67011166e-01,\n",
              "          9.82963204e-01,  8.56696844e-01,  9.99372423e-01,\n",
              "         -1.92579210e-01,  9.96981084e-01,  2.10357487e-01,\n",
              "          2.84461021e-01,  9.65793654e-02,  2.44745269e-01,\n",
              "          9.76513565e-01,  4.05047297e-01, -6.81259453e-01,\n",
              "         -1.93609700e-01, -4.84824896e-01,  2.30696455e-01,\n",
              "         -9.99203742e-01, -9.56096530e-01, -5.79378068e-01,\n",
              "         -3.96879837e-02, -5.73907569e-02, -9.74193513e-01,\n",
              "         -9.73427594e-01,  1.00151978e-01,  2.40723282e-01,\n",
              "          1.62927777e-01,  2.42329136e-01,  9.43726063e-01,\n",
              "         -6.38533533e-02,  1.26870409e-01, -7.18344629e-01,\n",
              "         -9.92574394e-01, -7.11846426e-02, -1.46030501e-01,\n",
              "         -4.83590156e-01, -6.13327026e-01,  7.13953793e-01,\n",
              "         -1.53984830e-01, -9.97635961e-01,  2.99064875e-01,\n",
              "          9.98741090e-01,  8.56168985e-01,  3.11262757e-01,\n",
              "         -4.50186193e-01,  9.73553658e-01, -2.72070497e-01,\n",
              "         -1.30773261e-01,  9.94025290e-01, -9.99943078e-01,\n",
              "         -8.85477811e-02, -3.88364613e-01, -8.56459513e-02,\n",
              "          1.23220235e-01, -4.03663784e-01,  9.99085605e-01,\n",
              "          2.30324455e-02, -4.24665987e-01, -9.42262650e-01,\n",
              "          3.93936664e-01, -1.33295292e-02,  9.59552050e-01,\n",
              "          1.57278646e-02, -9.25130963e-01, -1.93070516e-01,\n",
              "         -2.65474856e-01, -9.99908686e-01,  9.78813589e-01,\n",
              "          4.50990617e-01, -9.99000072e-01,  2.61028796e-01,\n",
              "         -6.55636370e-01,  5.67904651e-01,  1.85161248e-01,\n",
              "         -9.02370393e-01, -1.27932042e-01, -9.99364913e-01,\n",
              "         -4.35874611e-01,  9.97788668e-01, -3.16906154e-01,\n",
              "          9.62255776e-01,  2.90363669e-01, -9.50056493e-01,\n",
              "         -2.74001718e-01, -1.88336112e-02,  2.15329826e-01,\n",
              "          2.70551115e-01,  4.60419297e-01, -9.78495777e-01,\n",
              "          9.95513856e-01, -9.37972963e-01,  7.95150399e-01,\n",
              "          1.82261378e-01, -8.90303254e-01, -8.80954742e-01,\n",
              "         -3.77924174e-01,  7.56196901e-02, -3.23662996e-01,\n",
              "         -9.85925734e-01, -9.98959482e-01, -6.33480847e-02,\n",
              "         -9.98691916e-01, -8.01522434e-01, -9.85162318e-01,\n",
              "          2.47793570e-01, -4.02585655e-01,  1.03882290e-01,\n",
              "         -1.52592182e-01,  2.09507823e-01,  2.19179727e-02,\n",
              "          5.76247513e-01,  1.60194173e-01,  9.98519540e-01,\n",
              "         -4.26371664e-01, -2.99708337e-01, -3.94283980e-01,\n",
              "          9.93945956e-01,  8.77698779e-01,  1.11086264e-01,\n",
              "         -9.98374939e-01,  4.53648627e-01,  9.91885602e-01,\n",
              "          9.16699469e-01,  8.71488392e-01,  9.96536851e-01,\n",
              "         -9.29224312e-01, -1.06886521e-01,  3.26357037e-01,\n",
              "         -5.76192081e-01,  7.50882268e-01, -1.37595981e-01,\n",
              "          6.93647087e-01, -9.98303175e-01, -9.70150948e-01,\n",
              "         -3.42499353e-02, -9.87183750e-01,  9.42197144e-01,\n",
              "          3.47525001e-01,  2.69227117e-01,  4.51329410e-01,\n",
              "          3.19435388e-01, -2.51565248e-01, -8.42267156e-01,\n",
              "         -9.86535788e-01, -6.13613546e-01,  1.50642484e-01,\n",
              "         -3.69367063e-01, -1.50070608e-01, -9.99991059e-01,\n",
              "         -9.76706505e-01,  4.00267273e-01,  2.16104642e-01,\n",
              "          2.96439938e-02, -5.82244098e-02,  2.13437423e-01,\n",
              "         -8.18849385e-01,  9.99166667e-01, -8.80628824e-01,\n",
              "         -1.37993664e-01,  3.45503762e-02,  7.73415044e-02,\n",
              "          6.84453622e-02, -1.80267543e-01,  9.59138036e-01,\n",
              "          7.51162767e-01,  1.32814631e-01,  2.18579888e-01,\n",
              "         -4.58394855e-01, -2.02125646e-02]], dtype=float32)>,\n",
              " 'sequence_output': <tf.Tensor: shape=(1, 128, 512), dtype=float32, numpy=\n",
              " array([[[-0.28946334,  0.3432125 ,  0.3323145 , ...,  0.21300784,\n",
              "           0.7102074 , -0.05771092],\n",
              "         [-0.28742123,  0.3198099 , -0.23018596, ...,  0.58455014,\n",
              "          -0.21329784,  0.72692066],\n",
              "         [-0.66157025,  0.688768  , -0.87433004, ...,  0.10877235,\n",
              "          -0.26173162,  0.47855377],\n",
              "         ...,\n",
              "         [ 0.07634869, -0.1402928 , -0.23991919, ...,  0.4310994 ,\n",
              "           0.9132688 ,  0.21486562],\n",
              "         [-0.44950598, -0.41251948, -0.1845078 , ...,  0.42683178,\n",
              "           0.57654625,  0.58352417],\n",
              "         [-1.0125365 , -0.86389214,  0.05829315, ...,  0.33312115,\n",
              "           0.3652097 ,  0.94291836]]], dtype=float32)>}"
            ]
          },
          "execution_count": 21,
          "metadata": {},
          "output_type": "execute_result"
        }
      ],
      "source": [
        "bert_results"
      ]
    },
    {
      "cell_type": "markdown",
      "metadata": {
        "id": "sm61jDrezAll"
      },
      "source": [
        "The BERT models return a map with 3 important keys: `pooled_output`, `sequence_output`, `encoder_outputs`:\n",
        "\n",
        "- `pooled_output` represents each input sequence as a whole. The shape is `[batch_size, H]`. You can think of this as an embedding for the entire movie review.\n",
        "- `sequence_output` represents each input token in the context. The shape is `[batch_size, seq_length, H]`. You can think of this as a contextual embedding for every token in the movie review.\n",
        "- `encoder_outputs` are the intermediate activations of the `L` Transformer blocks. `outputs[\"encoder_outputs\"][i]` is a Tensor of shape `[batch_size, seq_length, 1024]` with the outputs of the i-th Transformer block, for `0 <= i < L`. The last value of the list is equal to `sequence_output`.\n",
        "\n",
        "For the fine-tuning you are going to use the `pooled_output` array."
      ]
    },
    {
      "cell_type": "markdown",
      "metadata": {
        "id": "pDNKfAXbDnJH"
      },
      "source": [
        "## Define your model\n",
        "\n",
        "You will create a very simple fine-tuned model, with the preprocessing model, the selected BERT model, one Dense and a Dropout layer.\n",
        "\n",
        "Note: for more information about the base model's input and output you can follow the model's URL for documentation. Here specifically, you don't need to worry about it because the preprocessing model will take care of that for you.\n"
      ]
    },
    {
      "cell_type": "code",
      "execution_count": null,
      "metadata": {
        "id": "aksj743St9ga"
      },
      "outputs": [],
      "source": [
        "def build_classifier_model():\n",
        "  text_input = tf.keras.layers.Input(shape=(), dtype=tf.string, name='text')\n",
        "  preprocessing_layer = hub.KerasLayer(tfhub_handle_preprocess, name='preprocessing')\n",
        "  encoder_inputs = preprocessing_layer(text_input)\n",
        "  encoder = hub.KerasLayer(tfhub_handle_encoder, trainable=True, name='BERT_encoder')\n",
        "  outputs = encoder(encoder_inputs)\n",
        "  net = outputs['pooled_output']\n",
        "  net = tf.keras.layers.Dropout(0.1)(net)\n",
        "  net = tf.keras.layers.Dense(1, activation=None, name='classifier')(net)\n",
        "  return tf.keras.Model(text_input, net)"
      ]
    },
    {
      "cell_type": "markdown",
      "metadata": {
        "id": "Zs4yhFraBuGQ"
      },
      "source": [
        "Let's check that the model runs with the output of the preprocessing model."
      ]
    },
    {
      "cell_type": "code",
      "execution_count": null,
      "metadata": {
        "colab": {
          "base_uri": "https://localhost:8080/"
        },
        "id": "9pEwJdQA5ry_",
        "outputId": "99d6da26-6157-4415-a3d4-1a3ac9e0a5f4"
      },
      "outputs": [
        {
          "data": {
            "text/plain": [
              "<tf.Tensor: shape=(1,), dtype=string, numpy=array([b'this is such an amazing movie!'], dtype=object)>"
            ]
          },
          "execution_count": 25,
          "metadata": {},
          "output_type": "execute_result"
        }
      ],
      "source": [
        "tf.constant(text_test)"
      ]
    },
    {
      "cell_type": "code",
      "execution_count": null,
      "metadata": {
        "colab": {
          "base_uri": "https://localhost:8080/"
        },
        "id": "mGMF8AZcB2Zy",
        "outputId": "7a0b2894-8efa-45d9-ec09-f0818edc9503"
      },
      "outputs": [
        {
          "name": "stdout",
          "output_type": "stream",
          "text": [
            "tf.Tensor([[0.52299047]], shape=(1, 1), dtype=float32)\n"
          ]
        }
      ],
      "source": [
        "classifier_model = build_classifier_model()\n",
        "bert_raw_result = classifier_model(tf.constant(text_test))\n",
        "print(tf.sigmoid(bert_raw_result))"
      ]
    },
    {
      "cell_type": "markdown",
      "metadata": {
        "id": "ZTUzNV2JE2G3"
      },
      "source": [
        "The output is meaningless, of course, because the model has not been trained yet.\n",
        "\n",
        "Let's take a look at the model's structure."
      ]
    },
    {
      "cell_type": "code",
      "execution_count": null,
      "metadata": {
        "colab": {
          "base_uri": "https://localhost:8080/",
          "height": 466
        },
        "id": "0EmzyHZXKIpm",
        "outputId": "fabb1d3f-3598-49d6-84de-c8710b0983a4"
      },
      "outputs": [
        {
          "data": {
            "image/png": "[encoded data removed]",
            "text/plain": [
              "<IPython.core.display.Image object>"
            ]
          },
          "execution_count": 27,
          "metadata": {},
          "output_type": "execute_result"
        }
      ],
      "source": [
        "tf.keras.utils.plot_model(classifier_model)"
      ]
    },
    {
      "cell_type": "markdown",
      "metadata": {
        "id": "WbUWoZMwc302"
      },
      "source": [
        "## Model training\n",
        "\n",
        "You now have all the pieces to train a model, including the preprocessing module, BERT encoder, data, and classifier."
      ]
    },
    {
      "cell_type": "markdown",
      "metadata": {
        "id": "WpJ3xcwDT56v"
      },
      "source": [
        "### Loss function\n",
        "\n",
        "Since this is a binary classification problem and the model outputs a probability (a single-unit layer), you'll use `losses.BinaryCrossentropy` loss function.\n"
      ]
    },
    {
      "cell_type": "code",
      "execution_count": null,
      "metadata": {
        "id": "OWPOZE-L3AgE"
      },
      "outputs": [],
      "source": [
        "loss = tf.keras.losses.BinaryCrossentropy(from_logits=True)\n",
        "metrics = tf.metrics.BinaryAccuracy()"
      ]
    },
    {
      "cell_type": "markdown",
      "metadata": {
        "id": "77psrpfzbxtp"
      },
      "source": [
        "### Optimizer\n",
        "\n",
        "For fine-tuning, let's use the same optimizer that BERT was originally trained with: the \"Adaptive Moments\" (Adam). This optimizer minimizes the prediction loss and does regularization by weight decay (not using moments), which is also known as [AdamW](https://arxiv.org/abs/1711.05101).\n",
        "\n",
        "For the learning rate (`init_lr`), you will use the same schedule as BERT pre-training: linear decay of a notional initial learning rate, prefixed with a linear warm-up phase over the first 10% of training steps (`num_warmup_steps`). In line with the BERT paper, the initial learning rate is smaller for fine-tuning (best of 5e-5, 3e-5, 2e-5)."
      ]
    },
    {
      "cell_type": "code",
      "execution_count": null,
      "metadata": {
        "id": "P9eP2y9dbw32"
      },
      "outputs": [],
      "source": [
        "epochs = 5\n",
        "steps_per_epoch = tf.data.experimental.cardinality(train_ds).numpy()\n",
        "num_train_steps = steps_per_epoch * epochs\n",
        "num_warmup_steps = int(0.1*num_train_steps)\n",
        "\n",
        "init_lr = 3e-5\n",
        "optimizer = optimization.create_optimizer(init_lr=init_lr,\n",
        "                                          num_train_steps=num_train_steps,\n",
        "                                          num_warmup_steps=num_warmup_steps,\n",
        "                                          optimizer_type='adamw')"
      ]
    },
    {
      "cell_type": "code",
      "execution_count": null,
      "metadata": {
        "colab": {
          "base_uri": "https://localhost:8080/"
        },
        "id": "5Dcw6hR_9MZr",
        "outputId": "e6c7150e-366f-4f1a-ca45-f60316c72439"
      },
      "outputs": [
        {
          "name": "stdout",
          "output_type": "stream",
          "text": [
            "Init learning rate: 3e-05\n",
            "Steps per epoch: 625\n",
            "Number train steps: 3125\n",
            "Number warmup steps: 312\n"
          ]
        }
      ],
      "source": [
        "print(f\"Init learning rate: {init_lr}\")\n",
        "print(f\"Steps per epoch: {steps_per_epoch}\")\n",
        "print(f\"Number train steps: {num_train_steps}\")\n",
        "print(f\"Number warmup steps: {num_warmup_steps}\")"
      ]
    },
    {
      "cell_type": "markdown",
      "metadata": {
        "id": "SqlarlpC_v0g"
      },
      "source": [
        "### Loading the BERT model and training\n",
        "\n",
        "Using the `classifier_model` you created earlier, you can compile the model with the loss, metric and optimizer."
      ]
    },
    {
      "cell_type": "code",
      "execution_count": null,
      "metadata": {
        "id": "-7GPDhR98jsD"
      },
      "outputs": [],
      "source": [
        "classifier_model.compile(optimizer=optimizer,\n",
        "                         loss=loss,\n",
        "                         metrics=metrics)"
      ]
    },
    {
      "cell_type": "markdown",
      "metadata": {
        "id": "CpBuV5j2cS_b"
      },
      "source": [
        "Note: training time will vary depending on the complexity of the BERT model you have selected."
      ]
    },
    {
      "cell_type": "code",
      "execution_count": null,
      "metadata": {
        "colab": {
          "background_save": true,
          "base_uri": "https://localhost:8080/"
        },
        "id": "HtfDFAnN_Neu",
        "outputId": "f682afe5-a33a-4e27-c16f-dcbeba4a4ef9"
      },
      "outputs": [
        {
          "name": "stdout",
          "output_type": "stream",
          "text": [
            "Training model with https://tfhub.dev/tensorflow/small_bert/bert_en_uncased_L-4_H-512_A-8/1\n",
            "Epoch 1/5\n",
            "625/625 [==============================] - 5139s 8s/step - loss: 0.4790 - binary_accuracy: 0.7505 - val_loss: 0.3962 - val_binary_accuracy: 0.8344\n",
            "Epoch 2/5\n",
            " 26/625 [>.............................] - ETA: 1:19:18 - loss: 0.4171 - binary_accuracy: 0.8101"
          ]
        }
      ],
      "source": [
        "print(f'Training model with {tfhub_handle_encoder}')\n",
        "history = classifier_model.fit(x=train_ds,\n",
        "                               validation_data=val_ds,\n",
        "                               epochs=epochs)"
      ]
    },
    {
      "cell_type": "markdown",
      "metadata": {
        "id": "uBthMlTSV8kn"
      },
      "source": [
        "### Evaluate the model\n",
        "\n",
        "Let's see how the model performs. Two values will be returned. Loss (a number which represents the error, lower values are better), and accuracy."
      ]
    },
    {
      "cell_type": "code",
      "execution_count": null,
      "metadata": {
        "id": "slqB-urBV9sP"
      },
      "outputs": [],
      "source": [
        "loss, accuracy = classifier_model.evaluate(test_ds)\n",
        "\n",
        "print(f'Loss: {loss}')\n",
        "print(f'Accuracy: {accuracy}')"
      ]
    },
    {
      "cell_type": "markdown",
      "metadata": {
        "id": "uttWpgmSfzq9"
      },
      "source": [
        "### Plot the accuracy and loss over time\n",
        "\n",
        "Based on the `History` object returned by `model.fit()`. You can plot the training and validation loss for comparison, as well as the training and validation accuracy:"
      ]
    },
    {
      "cell_type": "code",
      "execution_count": null,
      "metadata": {
        "id": "fiythcODf0xo"
      },
      "outputs": [],
      "source": [
        "history_dict = history.history\n",
        "print(history_dict.keys())\n",
        "\n",
        "acc = history_dict['binary_accuracy']\n",
        "val_acc = history_dict['val_binary_accuracy']\n",
        "loss = history_dict['loss']\n",
        "val_loss = history_dict['val_loss']\n",
        "\n",
        "epochs = range(1, len(acc) + 1)\n",
        "fig = plt.figure(figsize=(10, 6))\n",
        "fig.tight_layout()\n",
        "\n",
        "plt.subplot(2, 1, 1)\n",
        "# r is for \"solid red line\"\n",
        "plt.plot(epochs, loss, 'r', label='Training loss')\n",
        "# b is for \"solid blue line\"\n",
        "plt.plot(epochs, val_loss, 'b', label='Validation loss')\n",
        "plt.title('Training and validation loss')\n",
        "# plt.xlabel('Epochs')\n",
        "plt.ylabel('Loss')\n",
        "plt.legend()\n",
        "\n",
        "plt.subplot(2, 1, 2)\n",
        "plt.plot(epochs, acc, 'r', label='Training acc')\n",
        "plt.plot(epochs, val_acc, 'b', label='Validation acc')\n",
        "plt.title('Training and validation accuracy')\n",
        "plt.xlabel('Epochs')\n",
        "plt.ylabel('Accuracy')\n",
        "plt.legend(loc='lower right')"
      ]
    },
    {
      "cell_type": "markdown",
      "metadata": {
        "id": "WzJZCo-cf-Jf"
      },
      "source": [
        "In this plot, the red lines represent the training loss and accuracy, and the blue lines are the validation loss and accuracy."
      ]
    },
    {
      "cell_type": "markdown",
      "metadata": {
        "id": "Rtn7jewb6dg4"
      },
      "source": [
        "## Export for inference\n",
        "\n",
        "Now you just save your fine-tuned model for later use."
      ]
    },
    {
      "cell_type": "code",
      "execution_count": null,
      "metadata": {
        "id": "ShcvqJAgVera"
      },
      "outputs": [],
      "source": [
        "dataset_name = 'imdb'\n",
        "saved_model_path = './{}_bert'.format(dataset_name.replace('/', '_'))\n",
        "\n",
        "classifier_model.save(saved_model_path, include_optimizer=False)"
      ]
    },
    {
      "cell_type": "markdown",
      "metadata": {
        "id": "PbI25bS1vD7s"
      },
      "source": [
        "Let's reload the model, so you can try it side by side with the model that is still in memory."
      ]
    },
    {
      "cell_type": "code",
      "execution_count": null,
      "metadata": {
        "id": "gUEWVskZjEF0"
      },
      "outputs": [],
      "source": [
        "reloaded_model = tf.saved_model.load(saved_model_path)"
      ]
    },
    {
      "cell_type": "markdown",
      "metadata": {
        "id": "oyTappHTvNCz"
      },
      "source": [
        "Here you can test your model on any sentence you want, just add to the examples variable below."
      ]
    },
    {
      "cell_type": "code",
      "execution_count": null,
      "metadata": {
        "id": "VBWzH6exlCPS"
      },
      "outputs": [],
      "source": [
        "def print_my_examples(inputs, results):\n",
        "  result_for_printing = \\\n",
        "    [f'input: {inputs[i]:<30} : score: {results[i][0]:.6f}'\n",
        "                         for i in range(len(inputs))]\n",
        "  print(*result_for_printing, sep='\\n')\n",
        "  print()\n",
        "\n",
        "\n",
        "examples = [\n",
        "    'this is such an amazing movie!',  # this is the same sentence tried earlier\n",
        "    'The movie was great!',\n",
        "    'The movie was meh.',\n",
        "    'The movie was okish.',\n",
        "    'The movie was terrible...'\n",
        "]\n",
        "\n",
        "reloaded_results = tf.sigmoid(reloaded_model(tf.constant(examples)))\n",
        "original_results = tf.sigmoid(classifier_model(tf.constant(examples)))\n",
        "\n",
        "print('Results from the saved model:')\n",
        "print_my_examples(examples, reloaded_results)\n",
        "print('Results from the model in memory:')\n",
        "print_my_examples(examples, original_results)"
      ]
    },
    {
      "cell_type": "markdown",
      "metadata": {
        "id": "3cOmih754Y_M"
      },
      "source": [
        "If you want to use your model on [TF Serving](https://www.tensorflow.org/tfx/guide/serving), remember that it will call your SavedModel through one of its named signatures. In Python, you can test them as follows:"
      ]
    },
    {
      "cell_type": "code",
      "execution_count": null,
      "metadata": {
        "id": "0FdVD3973S-O"
      },
      "outputs": [],
      "source": [
        "serving_results = reloaded_model \\\n",
        "            .signatures['serving_default'](tf.constant(examples))\n",
        "\n",
        "serving_results = tf.sigmoid(serving_results['classifier'])\n",
        "\n",
        "print_my_examples(examples, serving_results)"
      ]
    },
    {
      "cell_type": "markdown",
      "metadata": {
        "id": "B4gN1KwReLPN"
      },
      "source": [
        "## Next steps\n",
        "\n",
        "As a next step, you can try [Solve GLUE tasks using BERT on a TPU tutorial](https://www.tensorflow.org/text/tutorials/bert_glue), which runs on a TPU and shows you how to work with multiple inputs."
      ]
    }
  ],
  "metadata": {
    "accelerator": "GPU",
    "colab": {
      "collapsed_sections": [],
      "name": "Text Classification with BERT.ipynb",
      "provenance": []
    },
    "kernelspec": {
      "display_name": "Python 3",
      "name": "python3"
    }
  },
  "nbformat": 4,
  "nbformat_minor": 0
}